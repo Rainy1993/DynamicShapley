{
 "cells": [
  {
   "cell_type": "markdown",
   "metadata": {
    "pycharm": {
     "name": "#%% md\n"
    }
   },
   "source": [
    "# Dynamic Shapley Value Computation Examples\n",
    "\n",
    "## Environment\n",
    "\n",
    "Prepare the environment for experiments."
   ]
  },
  {
   "cell_type": "code",
   "execution_count": null,
   "metadata": {
    "pycharm": {
     "name": "#%%\n"
    }
   },
   "outputs": [],
   "source": [
    "import random\n",
    "\n",
    "import numpy as np\n",
    "from sklearn import svm\n",
    "\n",
    "from data_utils import (\n",
    "    load_tabular_data, preprocess_data, variance, normalize, save_npy, load_npy, comp\n",
    ")\n",
    "import dynashap"
   ]
  },
  {
   "cell_type": "markdown",
   "metadata": {
    "pycharm": {
     "name": "#%% md\n"
    }
   },
   "source": [
    "## Part 0 Prepare Data\n",
    "\n",
    "In this part, we will prepare the data for demonstrating the algorithms. We give a toy size testing case whose time cost is pretty small."
   ]
  },
  {
   "cell_type": "markdown",
   "metadata": {
    "pycharm": {
     "name": "#%% md\n"
    }
   },
   "source": [
    "| item | description |\n",
    "| - | - |\n",
    "| data points | 20 -> 21/22/19/18 |\n",
    "| data set | iris (4F3C) |\n",
    "| model | SVM |"
   ]
  },
  {
   "cell_type": "code",
   "execution_count": null,
   "metadata": {
    "pycharm": {
     "name": "#%%\n"
    }
   },
   "outputs": [],
   "source": [
    "# Prepare the train index and valid index for iris dataset\n",
    "dict_no = dict()\n",
    "\n",
    "train_num = 20\n",
    "\n",
    "train_index = []\n",
    "test_index = []\n",
    "\n",
    "last_num = train_num\n",
    "for j in range(3):\n",
    "    c_num = int((train_num + 1) / 3)\n",
    "    train_index += random.sample([i for i in range(50 * j, 50 * (j + 1))], min([last_num, c_num]))\n",
    "    last_num = last_num - c_num\n",
    "    \n",
    "test_index = list(set(i for i in range(3 * 50)) - set(train_index))\n",
    "\n",
    "dict_no['train'] = train_index\n",
    "dict_no['test'] = test_index\n",
    "\n",
    "load_tabular_data('iris', dict_no, 'train_20p_3c.csv', 'test_20p_3c.csv')"
   ]
  },
  {
   "cell_type": "code",
   "execution_count": null,
   "metadata": {
    "pycharm": {
     "name": "#%%\n"
    }
   },
   "outputs": [],
   "source": [
    "x_train, y_train, x_test, y_test, columns_name = preprocess_data('train_20p_3c.csv', 'test_20p_3c.csv')\n",
    "model = svm.SVC(decision_function_shape='ovo')\n",
    "\n",
    "plus_time = 500\n",
    "normal_time = 50"
   ]
  },
  {
   "cell_type": "code",
   "execution_count": null,
   "metadata": {
    "pycharm": {
     "name": "#%%\n"
    }
   },
   "outputs": [],
   "source": [
    "reserved_x, reserved_y = x_test[-2:], y_test[-2:]\n",
    "x_test, y_test = x_test[:-2], y_test[:-2]"
   ]
  },
  {
   "cell_type": "code",
   "execution_count": null,
   "metadata": {
    "pycharm": {
     "name": "#%%\n"
    }
   },
   "outputs": [],
   "source": [
    "mc_plus_sv_20 = dynashap.mc_shap(x_train, y_train, x_test, y_test, model,\n",
    "                                 len(y_train) * plus_time)\n",
    "save_npy('mc_plus_sv_20.npy', mc_plus_sv_20)"
   ]
  },
  {
   "cell_type": "markdown",
   "metadata": {
    "pycharm": {
     "name": "#%% md\n"
    }
   },
   "source": [
    "## Part 1 Add single point\n",
    "\n",
    "### 1.1 Given Shapley value"
   ]
  },
  {
   "cell_type": "code",
   "execution_count": null,
   "metadata": {
    "pycharm": {
     "name": "#%%\n"
    }
   },
   "outputs": [],
   "source": [
    "added_x_train = np.append(x_train, [reserved_x[0]], axis=0)\n",
    "added_y_train = np.append(y_train, reserved_y[0])"
   ]
  },
  {
   "cell_type": "code",
   "execution_count": null,
   "metadata": {
    "pycharm": {
     "name": "#%%\n"
    }
   },
   "outputs": [],
   "source": [
    "mc_plus_sv_21 = dynashap.mc_shap(added_x_train, added_y_train, x_test, y_test, model,\n",
    "                                 len(added_y_train) * plus_time)\n",
    "save_npy('mc_plus_sv_21.npy', mc_plus_sv_21)"
   ]
  },
  {
   "cell_type": "markdown",
   "metadata": {
    "pycharm": {
     "name": "#%% md\n"
    }
   },
   "source": [
    "### 1.2 Computation\n",
    "\n",
    "---\n",
    "Algorithm list:\n",
    "\n",
    "* Baseline SV\n",
    "* Delta SV\n",
    "* Pivot SV\n",
    "* Heuristic SV\n",
    "* Monte Carlo SV\n",
    "---"
   ]
  },
  {
   "cell_type": "code",
   "execution_count": null,
   "metadata": {
    "pycharm": {
     "name": "#%%\n"
    }
   },
   "outputs": [],
   "source": [
    "init_sv = load_npy('mc_plus_sv_20.npy')"
   ]
  },
  {
   "cell_type": "code",
   "execution_count": null,
   "metadata": {
    "pycharm": {
     "name": "#%%\n"
    }
   },
   "outputs": [],
   "source": [
    "# Baseline\n",
    "base_shap = dynashap.BaseShap(x_train, y_train, x_test, y_test, model, init_sv)\n",
    "\n",
    "params = {\n",
    "    'method': 'avg'\n",
    "}\n",
    "base_avg_sv_21 = base_shap.add_single_point(reserved_x[0], reserved_y[0], params=params)\n",
    "save_npy('base_avg_sv_21.npy', base_avg_sv_21)\n",
    "\n",
    "params = {\n",
    "    'method': 'loo'\n",
    "}\n",
    "base_loo_sv_21 = base_shap.add_single_point(reserved_x[0], reserved_y[0], params=params)\n",
    "save_npy('base_loo_sv_21.npy', base_loo_sv_21)\n",
    "\n",
    "# Delta\n",
    "delta_shap = dynashap.DeltaShap(x_train, y_train, x_test, y_test, model, init_sv)\n",
    "delta_sv_21 = delta_shap.add_single_point(reserved_x[0], reserved_y[0],\n",
    "                                          len(added_y_train) * normal_time)\n",
    "save_npy('delta_sv_21.npy', delta_sv_21)"
   ]
  },
  {
   "cell_type": "code",
   "execution_count": null,
   "metadata": {
    "pycharm": {
     "name": "#%%\n"
    }
   },
   "outputs": [],
   "source": [
    "# Pivot\n",
    "# pivot_shap = dynashap.PivotShap(x_train, y_train, x_test, y_test, model, None)\n",
    "# pivot_shap.prepare(len(y_train) * normal_time, proc_num=1)\n",
    "# pivot_sv_d_21 = pivot_shap.add_single_point(reserved_x[0], reserved_y[0],\n",
    "#                             m=len(added_y_train) * normal_time, proc_num=1, params={'method': 'd'})\n",
    "# save_npy('pivot_sv_d_21.npy', pivot_sv_d_21)\n",
    "\n",
    "pivot_shap = dynashap.PivotShap(x_train, y_train, x_test, y_test, model, None)\n",
    "pivot_shap.prepare(len(added_y_train) * normal_time, 2)\n",
    "pivot_sv_s_21 = pivot_shap.add_single_point(reserved_x[0], reserved_y[0],\n",
    "                            proc_num=2, params={'method': 's'})\n",
    "save_npy('pivot_sv_s_21.npy', pivot_sv_s_21)"
   ]
  },
  {
   "cell_type": "code",
   "execution_count": null,
   "metadata": {
    "pycharm": {
     "name": "#%%\n"
    }
   },
   "outputs": [],
   "source": [
    "print(pivot_shap.permutations[0])\n",
    "print(pivot_shap.permutations[525])\n"
   ]
  },
  {
   "cell_type": "code",
   "execution_count": null,
   "metadata": {
    "pycharm": {
     "name": "#%%\n"
    }
   },
   "outputs": [],
   "source": [
    "# Heuristic\n",
    "params = {\n",
    "    'method': 'knn'\n",
    "}\n",
    "heur_shap = dynashap.HeurShap(x_train, y_train, x_test, y_test, model, init_sv, params=params)\n",
    "params = {\n",
    "    'n_neighbors': 5\n",
    "}\n",
    "heur_shap.prepare(params=params)\n",
    "heur_knn_sv_21 = heur_shap.add_single_point(reserved_x[0], reserved_y[0])\n",
    "save_npy('heur_knn_sv_21.npy', heur_knn_sv_21)\n",
    "\n",
    "params = {\n",
    "    'method': 'knn+'\n",
    "}\n",
    "heur_shap = dynashap.HeurShap(x_train, y_train, x_test, y_test, model, init_sv, params=params)\n",
    "# flags = {\n",
    "#     'exact': False,\n",
    "#     'train': True\n",
    "# }\n",
    "# params = {\n",
    "#     'n_neighbors': 3,\n",
    "#     'simi_type': 'ed',\n",
    "#     'f_shap': 'n*n',\n",
    "#     'rela': ['poly', 1],\n",
    "#     'train_idxs': [3, 11, 18],\n",
    "#     'm': (len(y_train) - 1) * plus_time\n",
    "# }\n",
    "# heur_shap.prepare(flags=flags, params=params)\n",
    "# heur_knn_plus_sv_21 = heur_shap.add_single_point(reserved_x[0], reserved_y[0])\n",
    "# save_npy('heur_knn_plus_sv_21.npy', heur_knn_plus_sv_21)\n",
    "\n",
    "# Monte Carlo\n",
    "mc_sv_21 = dynashap.mc_shap(added_x_train, added_y_train, x_test, y_test, model,\n",
    "                            m=len(added_y_train) * normal_time)\n",
    "save_npy('mc_sv_21.npy', mc_sv_21)"
   ]
  },
  {
   "cell_type": "markdown",
   "metadata": {
    "pycharm": {
     "name": "#%% md\n"
    }
   },
   "source": [
    "### 1.3 Comparison"
   ]
  },
  {
   "cell_type": "code",
   "execution_count": null,
   "metadata": {
    "pycharm": {
     "name": "#%%\n"
    }
   },
   "outputs": [],
   "source": [
    "# Load data\n",
    "mc_plus_sv_21  = load_npy('mc_plus_sv_21.npy')\n",
    "\n",
    "base_avg_sv_21 = load_npy('base_avg_sv_21.npy')\n",
    "base_loo_sv_21 = load_npy('base_loo_sv_21.npy')\n",
    "delta_sv_21    = load_npy('delta_sv_21.npy')\n",
    "pivot_sv_d_21  = load_npy('pivot_sv_d_21.npy')\n",
    "pivot_sv_s_21  = load_npy('pivot_sv_s_21.npy')\n",
    "pivot_sv_21     = load_npy('pivot_sv_21.npy')\n",
    "knn_sv_21      = load_npy('heur_knn_sv_21.npy')\n",
    "knn_plus_sv_21 = load_npy('heur_knn_plus_sv_21.npy')\n",
    "mc_sv_21       = load_npy('mc_sv_21.npy')"
   ]
  },
  {
   "cell_type": "code",
   "execution_count": null,
   "metadata": {
    "pycharm": {
     "name": "#%%\n"
    }
   },
   "outputs": [],
   "source": [
    "comp(mc_plus_sv_21, base_avg_sv_21, 'base avg')\n",
    "comp(mc_plus_sv_21, base_loo_sv_21, 'base loo')\n",
    "comp(mc_plus_sv_21, knn_sv_21, 'knn')\n",
    "comp(mc_plus_sv_21, knn_plus_sv_21, 'knn+')\n",
    "comp(mc_plus_sv_21, delta_sv_21, 'delta')\n",
    "comp(mc_plus_sv_21, pivot_sv_d_21, 'pivot diff')\n",
    "comp(mc_plus_sv_21, pivot_sv_s_21, 'pivot same')\n",
    "comp(mc_plus_sv_21, mc_sv_21, 'mc')"
   ]
  },
  {
   "cell_type": "markdown",
   "metadata": {
    "pycharm": {
     "name": "#%% md\n"
    }
   },
   "source": [
    "## Part 2 Add multiple points"
   ]
  },
  {
   "cell_type": "code",
   "execution_count": null,
   "metadata": {
    "pycharm": {
     "name": "#%%\n"
    }
   },
   "outputs": [],
   "source": [
    "added_x_train = np.append(x_train, reserved_x, axis=0)\n",
    "added_y_train = np.append(y_train, reserved_y)"
   ]
  },
  {
   "cell_type": "markdown",
   "metadata": {
    "pycharm": {
     "name": "#%% md\n"
    }
   },
   "source": [
    "### 2.1 Given Shapley value"
   ]
  },
  {
   "cell_type": "code",
   "execution_count": null,
   "metadata": {
    "pycharm": {
     "name": "#%%\n"
    }
   },
   "outputs": [],
   "source": [
    "mc_plus_sv_22 = dynashap.mc_shap(added_x_train, added_y_train, x_test, y_test, model,\n",
    "                                 len(added_y_train) * plus_time)\n",
    "save_npy('mc_plus_sv_22.npy', mc_plus_sv_22)"
   ]
  },
  {
   "cell_type": "code",
   "execution_count": null,
   "metadata": {
    "pycharm": {
     "name": "#%%\n"
    }
   },
   "outputs": [],
   "source": [
    "mc_sv_22 = dynashap.mc_shap(added_x_train, added_y_train, x_test, y_test, model,\n",
    "                            len(added_y_train) * normal_time)\n",
    "save_npy('mc_sv_22.npy', mc_sv_22)"
   ]
  },
  {
   "cell_type": "markdown",
   "metadata": {
    "pycharm": {
     "name": "#%% md\n"
    }
   },
   "source": [
    "### 2.2 Computation\n",
    "\n",
    "---\n",
    "Algorithm list:\n",
    "\n",
    "* Baseline SV\n",
    "* Delta SV\n",
    "* Heuristic SV\n",
    "* Monte Carlo SV\n",
    "---"
   ]
  },
  {
   "cell_type": "code",
   "execution_count": null,
   "metadata": {
    "pycharm": {
     "name": "#%%\n"
    }
   },
   "outputs": [],
   "source": [
    "init_sv = load_npy('mc_plus_sv_20.npy')\n",
    "\n",
    "# Baseline\n",
    "base_shap = dynashap.BaseShap(x_train, y_train, x_test, y_test, model, init_sv)\n",
    "\n",
    "params = {\n",
    "    'method': 'avg'\n",
    "}\n",
    "base_avg_sv_22 = base_shap.add_multi_points(reserved_x, reserved_y, params=params)\n",
    "save_npy('base_avg_sv_22.npy', base_avg_sv_22)\n",
    "\n",
    "params = {\n",
    "    'method': 'loo'\n",
    "}\n",
    "base_loo_sv_22 = base_shap.add_multi_points(reserved_x, reserved_y, params=params)\n",
    "save_npy('base_loo_sv_22.npy', base_loo_sv_22)\n",
    "\n",
    "# Delta\n",
    "delta_sv_21 = load_npy('delta_sv_21.npy')\n",
    "delta_shap = dynashap.DeltaShap(np.append(x_train, [reserved_x[0]], axis=0), \n",
    "                                np.append(y_train, reserved_y[0]), \n",
    "                                x_test, y_test, model, delta_sv_21)\n",
    "delta_sv_22 = delta_shap.add_single_point(reserved_x[1], reserved_y[1], len(added_y_train) * normal_time)\n",
    "save_npy('delta_sv_22.npy', delta_sv_22)\n",
    "\n",
    "# Pivot\n",
    "pivot_shap = dynashap.PivotShap(x_train, y_train, x_test, y_test, model, init_sv)\n",
    "pivot_shap.prepare(len(y_train) * plus_time)\n",
    "pivot_shap.add_single_point(reserved_x[0], reserved_y[0], m=(len(y_train) + 1) * normal_time, flags={'flag_lsv': True})\n",
    "pivot_sv_22 = pivot_shap.add_single_point(reserved_x[1], reserved_y[1], m=len(added_y_train) * normal_time, flags={'flag_lsv': True})\n",
    "save_npy('pivot_sv_22.npy', pivot_sv_22)\n",
    "\n",
    "# Heuristic\n",
    "params = {\n",
    "    'method': 'knn'\n",
    "}\n",
    "heur_shap = dynashap.HeurShap(x_train, y_train, x_test, y_test, model, init_sv, params=params)\n",
    "params = {\n",
    "    'n_neighbors': 4\n",
    "}\n",
    "heur_shap.prepare(params=params)\n",
    "heur_knn_sv_22 = heur_shap.add_multi_points(reserved_x, reserved_y)\n",
    "save_npy('heur_knn_sv_22.npy', heur_knn_sv_22)\n",
    "\n",
    "params = {\n",
    "    'method': 'knn+'\n",
    "}\n",
    "heur_shap = dynashap.HeurShap(x_train, y_train, x_test, y_test, model, init_sv, params=params)\n",
    "flags = {\n",
    "    'exact': False, \n",
    "    'train': True\n",
    "}\n",
    "params = {\n",
    "    'n_neighbors': 4,\n",
    "    'simi_type': 'ed',\n",
    "    'f_shap': 'n*n', \n",
    "    'rela': ['poly', 1],\n",
    "    'train_idxs': [3, 11, 18],\n",
    "    'm': (len(y_train) - 1) * plus_time\n",
    "}\n",
    "heur_shap.prepare(flags=flags, params=params)\n",
    "heur_knn_plus_sv_22 = heur_shap.add_multi_points(reserved_x, reserved_y)\n",
    "save_npy('heur_knn_plus_sv_22.npy', heur_knn_plus_sv_22)\n",
    "\n",
    "# Monte Carlo\n",
    "mc_sv_22 = dynashap.mc_shap(added_x_train, added_y_train, x_test, y_test, model, len(added_y_train) * normal_time)\n",
    "save_npy('mc_sv_22.npy', mc_sv_22)"
   ]
  },
  {
   "cell_type": "markdown",
   "metadata": {
    "pycharm": {
     "name": "#%% md\n"
    }
   },
   "source": [
    "### 2.3 Comparison"
   ]
  },
  {
   "cell_type": "code",
   "execution_count": null,
   "metadata": {
    "pycharm": {
     "name": "#%%\n"
    }
   },
   "outputs": [],
   "source": [
    "# Load\n",
    "mc_plus_sv_22  = load_npy('mc_plus_sv_22.npy')\n",
    "\n",
    "base_avg_sv_22 = load_npy('base_avg_sv_22.npy')\n",
    "base_loo_sv_22 = load_npy('base_loo_sv_22.npy')\n",
    "delta_sv_22    = load_npy('delta_sv_22.npy')\n",
    "pivot_sv_22     = load_npy('pivot_sv_22.npy')\n",
    "knn_sv_22      = load_npy('heur_knn_sv_22.npy')\n",
    "knn_plus_sv_22 = load_npy('heur_knn_plus_sv_22.npy')\n",
    "mc_sv_22       = load_npy('mc_sv_22.npy')"
   ]
  },
  {
   "cell_type": "code",
   "execution_count": null,
   "metadata": {
    "pycharm": {
     "name": "#%%\n"
    }
   },
   "outputs": [],
   "source": [
    "pivot_shap = dynashap.PivotShap(x_train, y_train, x_test, y_test, model, None)\n",
    "pivot_shap.prepare(len(y_train) * plus_time)\n",
    "pivot_shap.add_single_point(reserved_x[0], reserved_y[0], m=(len(y_train) + 1) * normal_time, flags={'flag_lsv': True})\n",
    "pivot_sv_22_new = pivot_shap.add_single_point(reserved_x[1], reserved_y[1], m=len(added_y_train) * normal_time, flags={'flag_lsv': True})\n",
    "save_npy('pivot_sv_22_new.npy', pivot_sv_22_new)\n",
    "# Variance\n",
    "comp(mc_plus_sv_22, base_avg_sv_22, 'base avg')\n",
    "comp(mc_plus_sv_22, base_loo_sv_22, 'base loo')\n",
    "comp(mc_plus_sv_22, knn_sv_22, 'knn')\n",
    "comp(mc_plus_sv_22, knn_plus_sv_22, 'knn+')\n",
    "comp(mc_plus_sv_22, delta_sv_22, 'delta')\n",
    "comp(mc_plus_sv_22, pivot_sv_22, 'pivot')\n",
    "comp(mc_plus_sv_22, load_npy('pivot_sv_22_new.npy'), 'pivot')\n",
    "comp(mc_plus_sv_22, mc_sv_22, 'mc')\n"
   ]
  },
  {
   "cell_type": "markdown",
   "metadata": {
    "pycharm": {
     "name": "#%% md\n"
    }
   },
   "source": [
    "## Part 3 Delete single point"
   ]
  },
  {
   "cell_type": "code",
   "execution_count": null,
   "metadata": {
    "pycharm": {
     "name": "#%%\n"
    }
   },
   "outputs": [],
   "source": [
    "# delete one point\n",
    "del_point_idx = 19\n",
    "del_idxs = [19]\n",
    "deleted_idxs = np.delete(np.arange(len(y_train)), del_idxs)\n",
    "\n",
    "deleted_x_train = x_train[deleted_idxs]\n",
    "deleted_y_train = y_train[deleted_idxs]"
   ]
  },
  {
   "cell_type": "markdown",
   "metadata": {
    "pycharm": {
     "name": "#%% md\n"
    }
   },
   "source": [
    "### 3.1 Given Shapley value"
   ]
  },
  {
   "cell_type": "code",
   "execution_count": null,
   "metadata": {
    "pycharm": {
     "name": "#%%\n"
    }
   },
   "outputs": [],
   "source": [
    "mc_plus_sv_19 = dynashap.mc_shap(deleted_x_train, deleted_y_train, x_test, y_test, model,\n",
    "                                 len(deleted_y_train) * plus_time)\n",
    "save_npy('mc_plus_sv_19.npy', mc_plus_sv_19)"
   ]
  },
  {
   "cell_type": "markdown",
   "metadata": {
    "pycharm": {
     "name": "#%% md\n"
    }
   },
   "source": [
    "### 3.2 Computation\n",
    "\n",
    "---\n",
    "Algorithm list:\n",
    "\n",
    "* Delta SV\n",
    "* Heuristic SV\n",
    "* Monte Carlo SV\n",
    "---"
   ]
  },
  {
   "cell_type": "code",
   "execution_count": null,
   "metadata": {
    "pycharm": {
     "name": "#%%\n"
    }
   },
   "outputs": [],
   "source": [
    "# Delta\n",
    "\n",
    "delta_shap = dynashap.DeltaShap(x_train, y_train, x_test, y_test,\n",
    "                                model, init_sv)\n",
    "delta_sv_19 = delta_shap.del_single_point(del_point_idx,\n",
    "                                          len(deleted_x_train) * normal_time)\n",
    "save_npy('delta_sv_19.npy', delta_sv_19)\n",
    "\n",
    "# Heuristic\n",
    "params = {\n",
    "    'method': 'knn'\n",
    "}\n",
    "heur_shap = dynashap.HeurShap(x_train, y_train, x_test, y_test, model, init_sv, params=params)\n",
    "params = {\n",
    "    'n_neighbors': 4\n",
    "}\n",
    "heur_shap.prepare(params=params)\n",
    "heur_knn_sv_19 = heur_shap.del_single_point(del_point_idx)\n",
    "save_npy('heur_knn_sv_19.npy', heur_knn_sv_19)\n",
    "\n",
    "params = {\n",
    "    'method': 'knn+'\n",
    "}\n",
    "heur_shap = dynashap.HeurShap(x_train, y_train, x_test, y_test, model, init_sv, params=params)\n",
    "flags = {\n",
    "    'exact': False,\n",
    "    'train': True\n",
    "}\n",
    "params = {\n",
    "    'n_neighbors': 4,\n",
    "    'simi_type': 'ed',\n",
    "    'f_shap': 'n*n',\n",
    "    'rela': ['poly', 1],\n",
    "    'train_idxs': [3, 11, 16],\n",
    "    'm': (len(y_train) - 1) * plus_time\n",
    "}\n",
    "heur_shap.prepare(flags=flags, params=params)\n",
    "heur_knn_plus_sv_19 = heur_shap.del_single_point(del_point_idx)\n",
    "save_npy('heur_knn_plus_sv_19.npy', heur_knn_plus_sv_19)\n",
    "\n",
    "# MC\n",
    "\n",
    "mc_sv_19 = dynashap.mc_shap(deleted_x_train, deleted_y_train, x_test, y_test, model,\n",
    "                            len(deleted_y_train) * normal_time)\n",
    "save_npy('mc_sv_19.npy', mc_sv_19)"
   ]
  },
  {
   "cell_type": "markdown",
   "metadata": {
    "pycharm": {
     "name": "#%% md\n"
    }
   },
   "source": [
    "### 3.3 YN Shap Check\n",
    "\n",
    "> This case is just used to proof that YN-NN is `ZERO ERROR`, which means that YN-NN algorithm will\n",
    "> not bring new error into the Shapley value."
   ]
  },
  {
   "cell_type": "code",
   "execution_count": null,
   "metadata": {
    "pycharm": {
     "name": "#%%\n"
    }
   },
   "outputs": [],
   "source": [
    "yn_shap = dynashap.YnShap(x_train, y_train, x_test, y_test,\n",
    "                          model, init_sv)\n",
    "flags = {'exact': True}\n",
    "yn_shap.prepare(1, flags)\n",
    "yn_sv_19 = yn_shap.del_single_point(del_point_idx, flags)\n",
    "save_npy('yn_sv_19.npy', yn_sv_19)\n",
    "\n",
    "exact_sv_19 = dynashap.exact_shap(deleted_x_train, deleted_y_train, x_test, y_test, model)\n",
    "save_npy('exact_sv_19.npy', exact_sv_19)"
   ]
  },
  {
   "cell_type": "code",
   "execution_count": null,
   "metadata": {
    "pycharm": {
     "name": "#%%\n"
    }
   },
   "outputs": [],
   "source": [
    "print('The variance between yn_sv and exact_sv: \\t %f' %\n",
    "      variance(exact_sv_19, normalize(exact_sv_19, yn_sv_19)))"
   ]
  },
  {
   "cell_type": "markdown",
   "metadata": {
    "pycharm": {
     "name": "#%% md\n"
    }
   },
   "source": [
    "### 3.4 Comparison"
   ]
  },
  {
   "cell_type": "code",
   "execution_count": null,
   "metadata": {
    "pycharm": {
     "name": "#%%\n"
    }
   },
   "outputs": [],
   "source": [
    "# Load\n",
    "mc_plus_sv_19  = load_npy('mc_plus_sv_19.npy')\n",
    "\n",
    "delta_sv_19    = load_npy('delta_sv_19.npy')\n",
    "knn_sv_19      = load_npy('heur_knn_sv_19.npy')\n",
    "knn_plus_sv_19 = load_npy('heur_knn_plus_sv_19.npy')\n",
    "mc_sv_19       = load_npy('mc_sv_19.npy')"
   ]
  },
  {
   "cell_type": "code",
   "execution_count": null,
   "metadata": {
    "pycharm": {
     "name": "#%%\n"
    }
   },
   "outputs": [],
   "source": [
    "# Variance\n",
    "comp(mc_plus_sv_19, delta_sv_19, 'delta')\n",
    "comp(mc_plus_sv_19, mc_sv_19, 'mc')\n",
    "comp(mc_plus_sv_19, knn_sv_19, 'knn')\n",
    "comp(mc_plus_sv_19, knn_plus_sv_19, 'knn+')"
   ]
  },
  {
   "cell_type": "markdown",
   "metadata": {
    "pycharm": {
     "name": "#%% md\n"
    }
   },
   "source": [
    "## Part 4 Delete multiple points"
   ]
  },
  {
   "cell_type": "code",
   "execution_count": null,
   "metadata": {
    "pycharm": {
     "name": "#%%\n"
    }
   },
   "outputs": [],
   "source": [
    "# delete two points\n",
    "del_idxs = [18, 19]\n",
    "deleted_idxs = np.delete(np.arange(len(y_train)), del_idxs)\n",
    "\n",
    "deleted_x_train = x_train[deleted_idxs]\n",
    "deleted_y_train = y_train[deleted_idxs]"
   ]
  },
  {
   "cell_type": "markdown",
   "metadata": {
    "pycharm": {
     "name": "#%% md\n"
    }
   },
   "source": [
    "### 4.1 Given Shapley value"
   ]
  },
  {
   "cell_type": "code",
   "execution_count": null,
   "metadata": {
    "pycharm": {
     "name": "#%%\n"
    }
   },
   "outputs": [],
   "source": [
    "mc_plus_sv_18 = dynashap.mc_shap(deleted_x_train, deleted_y_train, x_test, y_test, model,\n",
    "                                 len(deleted_y_train) * plus_time)\n",
    "save_npy('mc_plus_sv_18.npy', mc_plus_sv_18)"
   ]
  },
  {
   "cell_type": "markdown",
   "metadata": {
    "pycharm": {
     "name": "#%% md\n"
    }
   },
   "source": [
    "### 4.2 Computation"
   ]
  },
  {
   "cell_type": "markdown",
   "metadata": {
    "pycharm": {
     "name": "#%% md\n"
    }
   },
   "source": [
    "---\n",
    "Algorithm list:\n",
    "\n",
    "* Delta SV\n",
    "* Heuristic SV\n",
    "* Monte Carlo SV\n",
    "---"
   ]
  },
  {
   "cell_type": "code",
   "execution_count": null,
   "metadata": {
    "pycharm": {
     "name": "#%%\n"
    }
   },
   "outputs": [],
   "source": [
    "# Delta\n",
    "delta_shap = dynashap.DeltaShap(x_train[:19], y_train[:19], x_test, y_test,\n",
    "                                model, delta_sv_19)\n",
    "delta_sv_18 = delta_shap.del_single_point(del_idxs[0],\n",
    "                                          len(deleted_x_train) * normal_time)\n",
    "save_npy('delta_sv_18.npy', delta_sv_18)\n",
    "\n",
    "# Heuristic\n",
    "params = {\n",
    "    'method': 'knn'\n",
    "}\n",
    "heur_shap = dynashap.HeurShap(x_train, y_train, x_test, y_test, model, init_sv, params=params)\n",
    "params = {\n",
    "    'n_neighbors': 4\n",
    "}\n",
    "heur_shap.prepare(params=params)\n",
    "heur_knn_sv_18 = heur_shap.del_multi_points(del_idxs)\n",
    "save_npy('heur_knn_sv_18.npy', heur_knn_sv_18)\n",
    "\n",
    "params = {\n",
    "    'method': 'knn+'\n",
    "}\n",
    "heur_shap = dynashap.HeurShap(x_train, y_train, x_test, y_test, model, init_sv, params=params)\n",
    "flags = {\n",
    "    'exact': False,\n",
    "    'train': True\n",
    "}\n",
    "params = {\n",
    "    'n_neighbors': 4,\n",
    "    'simi_type': 'ed',\n",
    "    'f_shap': 'n*n',\n",
    "    'rela': ['poly', 1],\n",
    "    'train_idxs': [3, 11, 16],\n",
    "    'm': (len(y_train) - 1) * plus_time\n",
    "}\n",
    "heur_shap.prepare(flags=flags, params=params)\n",
    "heur_knn_plus_sv_18 = heur_shap.del_multi_points(del_idxs)\n",
    "save_npy('heur_knn_plus_sv_18.npy', heur_knn_plus_sv_18)\n",
    "\n",
    "# MC\n",
    "\n",
    "mc_sv_18 = dynashap.mc_shap(deleted_x_train, deleted_y_train, x_test, y_test, model,\n",
    "                            len(deleted_y_train) * normal_time)\n",
    "save_npy('mc_sv_18.npy', mc_sv_18)"
   ]
  },
  {
   "cell_type": "markdown",
   "metadata": {
    "pycharm": {
     "name": "#%% md\n"
    }
   },
   "source": [
    "### 4.3 YN Shap Check\n",
    "\n",
    "> This case is just used to proof that YNN-NNN is `ZERO ERROR`, which means that YN-NN algorithm will\n",
    "> not bring new error into the Shapley value."
   ]
  },
  {
   "cell_type": "code",
   "execution_count": null,
   "metadata": {
    "pycharm": {
     "name": "#%%\n"
    }
   },
   "outputs": [],
   "source": [
    "yn_shap = dynashap.YnShap(x_train, y_train, x_test, y_test,\n",
    "                          model, init_sv)\n",
    "flags = {'exact': True}\n",
    "yn_shap.prepare(2, flags)\n",
    "yn_sv_18 = yn_shap.del_multi_points(del_idxs, flags)\n",
    "save_npy('yn_sv_18.npy', yn_sv_18)\n",
    "\n",
    "exact_sv_18 = dynashap.exact_shap(deleted_x_train, deleted_y_train, x_test, y_test, model)\n",
    "save_npy('exact_sv_18.npy', exact_sv_18)"
   ]
  },
  {
   "cell_type": "code",
   "execution_count": null,
   "metadata": {
    "pycharm": {
     "name": "#%%\n"
    }
   },
   "outputs": [],
   "source": [
    "print('The variance between yn_sv and exact_sv: \\t %f' %\n",
    "      variance(exact_sv_18, normalize(exact_sv_18, yn_sv_18)))"
   ]
  },
  {
   "cell_type": "markdown",
   "metadata": {
    "pycharm": {
     "name": "#%% md\n"
    }
   },
   "source": [
    "### 4.4 Comparison"
   ]
  },
  {
   "cell_type": "code",
   "execution_count": null,
   "metadata": {
    "pycharm": {
     "name": "#%%\n"
    }
   },
   "outputs": [],
   "source": [
    "# Load\n",
    "mc_plus_sv_18  = load_npy('mc_plus_sv_18.npy')\n",
    "\n",
    "delta_sv_18    = load_npy('delta_sv_18.npy')\n",
    "knn_sv_18      = load_npy('heur_knn_sv_18.npy')\n",
    "knn_plus_sv_18 = load_npy('heur_knn_plus_sv_18.npy')\n",
    "mc_sv_18       = load_npy('mc_sv_18.npy')"
   ]
  },
  {
   "cell_type": "code",
   "execution_count": null,
   "metadata": {
    "pycharm": {
     "name": "#%%\n"
    }
   },
   "outputs": [],
   "source": [
    "# Variance\n",
    "comp(mc_plus_sv_18, delta_sv_18, 'delta')\n",
    "comp(mc_plus_sv_18, mc_sv_18, 'mc')\n",
    "comp(mc_plus_sv_18, knn_sv_18, 'knn')\n",
    "comp(mc_plus_sv_18, knn_plus_sv_18, 'knn+')"
   ]
  },
  {
   "cell_type": "code",
   "execution_count": null,
   "metadata": {
    "collapsed": false,
    "pycharm": {
     "name": "#%%\n"
    }
   },
   "outputs": [],
   "source": [
    "save_npy('heur_sv_99_knn.npy', load_npy('heur_sv_99_knn.npy')[:99])\n",
    "comp(load_npy('mc_sv_99_many.npy'), load_npy('heur_sv_99_knn.npy')[:99], 'knn')\n",
    "comp(load_npy('mc_sv_99_many.npy'), load_npy('mc_sv_99.npy')[:99], 'mc')"
   ]
  },
  {
   "cell_type": "code",
   "execution_count": null,
   "metadata": {
    "collapsed": false,
    "pycharm": {
     "name": "#%%\n"
    }
   },
   "outputs": [],
   "source": [
    "save_npy('heur_sv_98_knn.npy', load_npy('heur_sv_98_knn.npy')[:98])\n",
    "comp(load_npy('mc_sv_98_many.npy'), load_npy('heur_sv_98_knn.npy')[:98], 'knn')\n",
    "comp(load_npy('mc_sv_98_many.npy'), load_npy('mc_sv_98.npy'), 'mc')\n",
    "comp(load_npy('mc_sv_98_many.npy'), load_npy('heur_sv_98_simi.npy')[:98], 'simi')"
   ]
  },
  {
   "cell_type": "code",
   "execution_count": null,
   "metadata": {
    "collapsed": false,
    "pycharm": {
     "name": "#%%\n"
    }
   },
   "outputs": [],
   "source": [
    "# check the pivot\n",
    "x_train, y_train, x_test, y_test, _ = preprocess_data('train_100p_3c.csv',\n",
    "                                                      'test_100p_3c.csv')\n",
    "mc_sv_plus = dynashap.mc_shap(x_train, y_train, x_test, y_test, model, m=100*100)\n",
    "mc_sv = dynashap.mc_shap(x_train, y_train, x_test, y_test, model, m=100*10)\n",
    "pivot_shap = dynashap.PivotShap(x_train[:99], y_train[:99], x_test, y_test, model, None)\n",
    "pivot_shap.prepare(m=99*100)\n",
    "pivot_sv= pivot_shap.add_single_point(x_train[99], y_train[99], m=1000)"
   ]
  },
  {
   "cell_type": "code",
   "execution_count": null,
   "metadata": {
    "collapsed": false,
    "pycharm": {
     "name": "#%%\n"
    }
   },
   "outputs": [],
   "source": [
    "comp(mc_sv_plus, mc_sv, 'mc')\n",
    "comp(mc_sv_plus, pivot_sv, 'pivot')"
   ]
  }
 ],
 "metadata": {
  "interpreter": {
   "hash": "aee8b7b246df8f9039afb4144a1f6fd8d2ca17a180786b69acc140d282b71a49"
  },
  "kernelspec": {
   "display_name": "Python 3.9.4 64-bit",
   "name": "python3"
  },
  "language_info": {
   "name": "python",
   "version": ""
  },
  "metadata": {
   "interpreter": {
    "hash": "aee8b7b246df8f9039afb4144a1f6fd8d2ca17a180786b69acc140d282b71a49"
   }
  }
 },
 "nbformat": 4,
 "nbformat_minor": 2
}