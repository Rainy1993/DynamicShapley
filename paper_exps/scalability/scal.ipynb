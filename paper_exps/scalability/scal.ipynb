{
 "cells": [
  {
   "cell_type": "markdown",
   "metadata": {
    "collapsed": true,
    "pycharm": {
     "name": "#%% md\n"
    }
   },
   "source": [
    "# Scalability Part\n",
    "\n",
    "This exp add the accuracy comparison of all algorithm on a sample of size 100 and 200."
   ]
  },
  {
   "cell_type": "code",
   "execution_count": null,
   "metadata": {
    "pycharm": {
     "name": "#%%\n"
    }
   },
   "outputs": [],
   "source": [
    "import numpy as np\n",
    "from sklearn.svm import SVC\n",
    "\n",
    "from examples.data_utils import (\n",
    "    load_npy, save_npy, comp, load_augmented_data, preprocess_data, load_tabular_data\n",
    ")\n",
    "import dynashap"
   ]
  },
  {
   "cell_type": "markdown",
   "metadata": {},
   "source": [
    "## 1. Generate Data\n",
    "\n",
    "> Using [Adult](http://archive.ics.uci.edu/ml/datasets/Adult) Dataset.\n",
    "\n",
    "Generate 100 size data:\n",
    "\n",
    "| name | description |\n",
    "| - | - |\n",
    "| s_train_10p.csv | 10 points (5/5) |\n",
    "| s_test_10p.csv | 100 points (50/50) |\n",
    "\n",
    "Generate 100 size data:\n",
    "\n",
    "| name | description |\n",
    "| - | - |\n",
    "| s_train_100p.csv | 100 points (50/50) |\n",
    "| s_test_100p.csv | 100 points (50/50) |\n",
    "\n",
    "Generate 200 size data:\n",
    "\n",
    "| name | description |\n",
    "| - | - |\n",
    "| s_train_200p.csv | 200 points (100/100) |\n",
    "| s_test_200p.csv | 100 points (50/50) |"
   ]
  },
  {
   "cell_type": "code",
   "execution_count": null,
   "metadata": {
    "pycharm": {
     "name": "#%%\n"
    }
   },
   "outputs": [],
   "source": [
    "x_train_10, y_train_10, x_test_10, y_test_10, _ = preprocess_data('s_train_10p.csv', 's_test_10p.csv')\n",
    "x_train_100, y_train_100, x_test_100, y_test_100, _ = preprocess_data('s_train_100p.csv', 's_test_100p.csv')\n",
    "x_train_200, y_train_200, x_test_200, y_test_200, _ = preprocess_data('s_train_200p.csv', 's_test_200p.csv')"
   ]
  },
  {
   "cell_type": "markdown",
   "metadata": {
    "pycharm": {
     "name": "#%% md\n"
    }
   },
   "source": [
    "## 2. Run algorithms"
   ]
  },
  {
   "cell_type": "markdown",
   "metadata": {
    "pycharm": {
     "name": "#%% md\n"
    }
   },
   "source": [
    "### 2.1 Add a single point\n",
    "\n",
    "- pivot\n",
    "- mc\n",
    "- delta"
   ]
  },
  {
   "cell_type": "code",
   "execution_count": null,
   "metadata": {
    "collapsed": false,
    "pycharm": {
     "name": "#%%\n"
    }
   },
   "outputs": [],
   "source": [
    "mc_plus_99 = dynashap.mc_shap(x_train_100[:99], y_train_100[:99], x_test_100, y_test_100, SVC(decision_function_shape='ovo'),m=100*100, proc_num=2)\n",
    "save_npy('mc_plus_size99.npy', mc_plus_99)"
   ]
  },
  {
   "cell_type": "code",
   "execution_count": null,
   "metadata": {
    "collapsed": false,
    "pycharm": {
     "name": "#%%\n"
    }
   },
   "outputs": [],
   "source": [
    "mc_plus_100 = dynashap.mc_shap(x_train_100, y_train_100, x_test_100, y_test_100, SVC(decision_function_shape='ovo'),m=100*100, proc_num=3)\n",
    "save_npy('mc_plus_size100.npy', mc_plus_100)"
   ]
  },
  {
   "cell_type": "code",
   "execution_count": null,
   "metadata": {
    "collapsed": false,
    "pycharm": {
     "name": "#%%\n"
    }
   },
   "outputs": [],
   "source": [
    "mc_sv_100 = dynashap.mc_shap(x_train_100, y_train_100, x_test_100, y_test_100, SVC(decision_function_shape='ovo'),m=100*30, proc_num=3)\n",
    "save_npy('mc_size100m30.npy', mc_sv_100)"
   ]
  },
  {
   "cell_type": "code",
   "execution_count": null,
   "metadata": {
    "pycharm": {
     "name": "#%%\n"
    }
   },
   "outputs": [],
   "source": [
    "size = 100\n",
    "stone_m = 100\n",
    "\n",
    "# 100 pivot\n",
    "pivot_shap = dynashap.PivotShap(x_train_100[:99], y_train_100[:99], x_test_100, y_test_100, SVC(decision_function_shape='ovo'),\n",
    "                                load_npy('mc_plus_size99.npy'))\n",
    "\n",
    "pivot_shap.prepare(m=99*stone_m)\n",
    "save_npy('as_pivot_lsv_size' + str(size) + '.npy', pivot_shap.lsv)\n",
    "\n",
    "pivot_sv = pivot_shap.add_single_point(x_train_100[-1], y_train_100[-1], m=100*30, flags={'flag_lsv': True})\n",
    "\n",
    "save_npy('as_pivot_size' + str(size) +'m30' + '.npy', pivot_sv)\n",
    "\n",
    "# 100 delta\n",
    "delta_shap = dynashap.DeltaShap(x_train_100[:99], y_train_100[:99], x_test_100, y_test_100, SVC(decision_function_shape='ovo'),\n",
    "                                load_npy('mc_plus_size99.npy'))\n",
    "delta_sv = delta_shap.add_single_point(x_train_100[-1], y_train_100[-1], m=100*30, flags={'flag_update': True})\n",
    "\n",
    "save_npy('as_delta_size' + str(size) +'m30' + '.npy', delta_sv)"
   ]
  },
  {
   "cell_type": "code",
   "execution_count": null,
   "metadata": {
    "collapsed": false,
    "pycharm": {
     "name": "#%%\n"
    }
   },
   "outputs": [],
   "source": [
    "size = 10\n",
    "stone_m = 100\n",
    "\n",
    "mc = dynashap.mc_shap(x_train_10[:9], y_train_10[:9], x_test_10, y_test_10, SVC(decision_function_shape='ovo'), m=stone_m*9)\n",
    "save_npy('as_mc_plus_size9.npy', mc)\n",
    "\n",
    "mc = dynashap.mc_shap(x_train_10[:10], y_train_10[:10], x_test_10, y_test_10, SVC(decision_function_shape='ovo'), m=stone_m*10)\n",
    "save_npy('as_mc_plus_size10.npy', mc)\n",
    "\n",
    "mc = dynashap.mc_shap(x_train_10[:10], y_train_10[:10], x_test_10, y_test_10, SVC(decision_function_shape='ovo'), m=30*10)\n",
    "save_npy('as_mc_size10m30.npy', mc)\n",
    "\n",
    "# 100 pivot\n",
    "pivot_shap = dynashap.PivotShap(x_train_10[:9], y_train_10[:9], x_test_10, y_test_10, SVC(decision_function_shape='ovo'),\n",
    "                              load_npy('as_mc_plus_size10.npy'))\n",
    "pivot_shap.prepare(m=9*stone_m)\n",
    "save_npy('as_pivot_lsv_size' + str(size) + '.npy', pivot_shap.lsv)\n",
    "\n",
    "pivot_sv = pivot_shap.add_single_point(x_train_10[-1], y_train_10[-1], m=10*30, flags={'flag_lsv': True})\n",
    "\n",
    "save_npy('as_pivot_size' + str(size) +'m30' + '.npy', pivot_sv)\n",
    "\n",
    "# 100 delta\n",
    "delta_shap = dynashap.DeltaShap(x_train_10[:9], y_train_10[:9], x_test_10, y_test_10, SVC(decision_function_shape='ovo'),\n",
    "                                load_npy('as_mc_plus_size9.npy'))\n",
    "delta_sv = delta_shap.add_single_point(x_train_10[-1], y_train_10[-1], m=10*30, flags={'flag_update': True})\n",
    "\n",
    "save_npy('as_delta_size' + str(size) +'m30' + '.npy', delta_sv)"
   ]
  },
  {
   "cell_type": "markdown",
   "metadata": {},
   "source": [
    "### 2.2 Add multiple points\n",
    "\n",
    "- pivot\n",
    "- mc\n",
    "- delta"
   ]
  },
  {
   "cell_type": "code",
   "execution_count": null,
   "metadata": {
    "pycharm": {
     "name": "#%%\n"
    }
   },
   "outputs": [],
   "source": [
    "size = 100\n",
    "stone_m = 100\n",
    "# mc_plus_98 = dynashap.mc_shap(x_train_100[:98], y_train_100[:98], x_test_100, y_test_100, SVC(decision_function_shape='ovo'),m=100*100, proc_num=2)\n",
    "# save_npy('mc_plus_size98.npy', mc_plus_98)\n",
    "# # 100 pivot\n",
    "# pivot_shap = dynashap.PivotShap(x_train_100[:98], y_train_100[:98], x_test_100, y_test_100, SVC(decision_function_shape='ovo'),\n",
    "#                               load_npy('am_mc_plus_size100.npy'))\n",
    "# pivot_shap.prepare(m=98*stone_m)\n",
    "# save_npy('am_pivot_lsv_size' + str(size) + '.npy', pivot_shap.lsv)\n",
    "#\n",
    "# pivot_shap.add_single_point(x_train_100[-2], y_train_100[-2], m=99*30, flags={'flag_lsv': True})\n",
    "# pivot_sv = pivot_shap.add_single_point(x_train_100[-1], y_train_100[-1], m=100*30, flags={'flag_lsv': True})\n",
    "#\n",
    "# save_npy('am_pivot_size' + str(size) +'m30' + '.npy', pivot_sv)\n",
    "\n",
    "# 100 delta\n",
    "delta_shap = dynashap.DeltaShap(x_train_100[:98], y_train_100[:98], x_test_100, y_test_100, SVC(decision_function_shape='ovo'),\n",
    "                                load_npy('mc_plus_size98.npy'))\n",
    "delta_shap.add_single_point(x_train_100[-2], y_train_100[-2], m=99*30, flags={'flag_update': True}, proc_num=2)\n",
    "delta_sv = delta_shap.add_single_point(x_train_100[-1], y_train_100[-1], m=100*30, flags={'flag_update': True},proc_num=2)\n",
    "\n",
    "save_npy('am_delta_size' + str(size) +'m30' + '.npy', delta_sv)"
   ]
  },
  {
   "cell_type": "code",
   "execution_count": null,
   "metadata": {
    "collapsed": false,
    "pycharm": {
     "name": "#%%\n"
    }
   },
   "outputs": [],
   "source": [
    "size = 10\n",
    "stone_m = 100\n",
    "\n",
    "mc = dynashap.mc_shap(x_train_10[:8], y_train_10[:8], x_test_10, y_test_10, SVC(decision_function_shape='ovo'), m=stone_m*8)\n",
    "save_npy('am_mc_plus_size8.npy', mc)\n",
    "\n",
    "mc = dynashap.mc_shap(x_train_10[:10], y_train_10[:10], x_test_10, y_test_10, SVC(decision_function_shape='ovo'), m=stone_m*10)\n",
    "save_npy('am_mc_plus_size10.npy', mc)\n",
    "\n",
    "mc = dynashap.mc_shap(x_train_10[:10], y_train_10[:10], x_test_10, y_test_10, SVC(decision_function_shape='ovo'), m=30*10)\n",
    "save_npy('am_mc_size10m30.npy', mc)\n",
    "\n",
    "# 100 pivot\n",
    "pivot_shap = dynashap.PivotShap(x_train_10[:8], y_train_10[:8], x_test_10, y_test_10, SVC(decision_function_shape='ovo'), None)\n",
    "pivot_shap.prepare(m=8*stone_m)\n",
    "save_npy('am_pivot_lsv_size' + str(size) + '.npy', pivot_shap.lsv)\n",
    "\n",
    "pivot_shap.add_single_point(x_train_10[-2], y_train_10[-2], m=9*30, flags={'flag_lsv': True})\n",
    "pivot_shap.add_single_point(x_train_10[-1], y_train_10[-1], m=10*30, flags={'flag_lsv': True})\n",
    "\n",
    "save_npy('am_pivot_size' + str(size) +'m30' + '.npy', pivot_sv)\n",
    "\n",
    "# 100 delta\n",
    "delta_shap = dynashap.DeltaShap(x_train_10[:8], y_train_10[:8], x_test_10, y_test_10, SVC(decision_function_shape='ovo'),\n",
    "                                load_npy('am_mc_plus_size8.npy'))\n",
    "delta_shap.add_single_point(x_train_10[-2], y_train_10[-2], m=9*30, flags={'flag_update': True})\n",
    "delta_sv = delta_shap.add_single_point(x_train_10[-1], y_train_10[-1], m=10*30, flags={'flag_update': True})\n",
    "save_npy('am_delta_size' + str(size) +'m30' + '.npy', delta_sv)"
   ]
  },
  {
   "cell_type": "markdown",
   "metadata": {},
   "source": [
    "### 2.3 Delete a single point\n",
    "\n",
    "- mc\n",
    "- delta"
   ]
  },
  {
   "cell_type": "code",
   "execution_count": null,
   "metadata": {
    "pycharm": {
     "name": "#%%\n"
    }
   },
   "outputs": [],
   "source": [
    "# 200 delta\n",
    "x_train_ = np.append(x_train_200, x_test_200[:1], axis=0)\n",
    "y_train_ = np.append(y_train_200, y_test_200[:1])\n",
    "x_test_ = x_test_200[1:, :]\n",
    "y_test_ = y_test_200[1:]\n",
    "\n",
    "\n",
    "delta_shap = dynashap.DeltaShap(x_train_, y_train_, x_test_, y_test_, SVC(decision_function_shape='ovo'),\n",
    "                                load_npy('ds_mc_plus_size200.npy'))\n",
    "delta_sv = delta_shap.del_single_point(len(y_train_) - 1, m=(len(y_train_)-1)*30, proc_num=25)\n",
    "save_npy('ds_delta_size' + str(size) +'m30' + '.npy', delta_sv)\n"
   ]
  },
  {
   "cell_type": "code",
   "execution_count": null,
   "metadata": {
    "collapsed": false,
    "pycharm": {
     "name": "#%%\n"
    }
   },
   "outputs": [],
   "source": [
    "size = 10\n",
    "stone_m = 100\n",
    "\n",
    "mc = dynashap.mc_shap(np.append(x_train_10, x_train_100[-1:], axis=0), np.append(y_train_10, y_train_100[-1]), x_test_10, y_test_10, SVC(decision_function_shape='ovo'), m=100*11)\n",
    "save_npy('ds_mc_plus_size11.npy', mc)\n",
    "\n",
    "# 100 delta\n",
    "delta_shap = dynashap.DeltaShap(np.append(x_train_10, x_train_100[-1:], axis=0), np.append(y_train_10, y_train_100[-1]), x_test_10, y_test_10, SVC(decision_function_shape='ovo'),\n",
    "                                load_npy('ds_mc_plus_size11.npy'))\n",
    "delta_sv = delta_shap.del_single_point(10, m=10*30, flags={'flag_update': False})\n",
    "save_npy('ds_delta_size' + str(size) +'m30' + '.npy', delta_sv)\n"
   ]
  },
  {
   "cell_type": "markdown",
   "metadata": {},
   "source": [
    "### 2.4 Delete multiple points\n",
    "\n",
    "- mc\n",
    "- delta"
   ]
  },
  {
   "cell_type": "code",
   "execution_count": null,
   "metadata": {
    "pycharm": {
     "name": "#%%\n"
    }
   },
   "outputs": [],
   "source": [
    "# 200 delta\n",
    "x_train_ = np.append(x_train_200, x_test_200[:2], axis=0)\n",
    "y_train_ = np.append(y_train_200, y_test_200[:2])\n",
    "x_test_ = x_test_200[2:, :]\n",
    "y_test_ = y_test_200[2:]\n",
    "\n",
    "\n",
    "delta_shap = dynashap.DeltaShap(x_train_, y_train_, x_test_, y_test_, SVC(decision_function_shape='ovo'),\n",
    "                                load_npy('ds_mc_plus_size200.npy'))\n",
    "delta_shap.del_single_point(len(y_train_) - 1, m=(len(y_train_)-1)*30, proc_num=25, flags={'flag_update': True})\n",
    "delta_sv = delta_shap.del_single_point(len(y_train_) - 2, m=(len(y_train_)-2)*30, proc_num=25, flags={'flag_update': True})\n",
    "save_npy('dm_delta_size' + str(size) +'m30' + '.npy', delta_sv)"
   ]
  },
  {
   "cell_type": "code",
   "execution_count": null,
   "metadata": {
    "collapsed": false,
    "pycharm": {
     "name": "#%%\n"
    }
   },
   "outputs": [],
   "source": [
    "size = 10\n",
    "stone_m = 100\n",
    "\n",
    "mc = dynashap.mc_shap(np.append(x_train_10, x_train_100[-2:], axis=0), np.append(y_train_10, y_train_100[-2:]), x_test_10, y_test_10, SVC(decision_function_shape='ovo'), m=100*12)\n",
    "save_npy('dm_mc_plus_size12.npy', mc)\n",
    "\n",
    "# 100 delta\n",
    "delta_shap = dynashap.DeltaShap(np.append(x_train_10, x_train_100[-2:], axis=0), np.append(y_train_10, y_train_100[-2:]), x_test_10, y_test_10, SVC(decision_function_shape='ovo'),\n",
    "                                load_npy('dm_mc_plus_size12.npy'))\n",
    "delta_shap.del_single_point(11, m=11*30, flags={'flag_update': True})\n",
    "delta_shap.del_single_point(10, m=10*30, flags={'flag_update': True})\n",
    "save_npy('dm_delta_size' + str(size) +'m30' + '.npy', delta_sv)"
   ]
  },
  {
   "cell_type": "markdown",
   "metadata": {
    "pycharm": {
     "name": "#%% md\n"
    }
   },
   "source": [
    "## 3. Comparison\n",
    "\n"
   ]
  },
  {
   "cell_type": "code",
   "execution_count": null,
   "metadata": {
    "collapsed": false,
    "pycharm": {
     "name": "#%%\n"
    }
   },
   "outputs": [],
   "source": [
    "def compare():\n",
    "    print('+----------------+')\n",
    "    print('|   10 points    |')\n",
    "    print('+----------------+')\n",
    "\n",
    "    # add a single point 100 point\n",
    "    print('>>> add a single point.')\n",
    "\n",
    "    mc = load_npy('as_mc_size10m30.npy')\n",
    "    mc_plus = load_npy('as_mc_plus_size10.npy')\n",
    "    pivot = load_npy('as_pivot_size10m30.npy')\n",
    "    delta = load_npy('as_delta_size10m30.npy')\n",
    "\n",
    "\n",
    "    comp(mc_plus, mc, 'mc')\n",
    "    comp(mc_plus, pivot, 'pivot')\n",
    "    comp(mc_plus, delta, 'delta')\n",
    "\n",
    "    print('>>> add multiple points.')\n",
    "\n",
    "    mc = load_npy('am_mc_size10m30.npy')\n",
    "    mc_plus = load_npy('am_mc_plus_size10.npy')\n",
    "    pivot = load_npy('am_pivot_size10m30.npy')\n",
    "    delta = load_npy('am_delta_size10m30.npy')# TODO\n",
    "\n",
    "    comp(mc_plus, mc, 'mc')\n",
    "    comp(mc_plus, pivot, 'pivot')\n",
    "    comp(mc_plus, delta, 'delta')\n",
    "\n",
    "    # del a single point 100 point\n",
    "    print('>>> delete a single point.')\n",
    "    delta = load_npy('ds_delta_size10m30.npy')\n",
    "\n",
    "    comp(mc_plus, mc, 'mc')\n",
    "    comp(mc_plus, delta, 'delta')\n",
    "\n",
    "    print('>>> delete multiple points.')\n",
    "    delta = load_npy('dm_delta_size10m30.npy')\n",
    "\n",
    "    comp(mc_plus, mc, 'mc')\n",
    "    comp(mc_plus, delta, 'delta')\n",
    "\n",
    "    # =============================\n",
    "\n",
    "    print('+-----------------+')\n",
    "    print('|   100 points    |')\n",
    "    print('+-----------------+')\n",
    "\n",
    "    # add a single point 100 point\n",
    "    print('>>> add a single point.')\n",
    "\n",
    "    mc = load_npy('mc_size100m30.npy')\n",
    "    mc_plus = load_npy('mc_plus_size100.npy')\n",
    "    pivot = load_npy('as_pivot_size100m30.npy')\n",
    "    delta = load_npy('as_delta_size100m30.npy')\n",
    "\n",
    "\n",
    "    comp(mc_plus, mc, 'mc')\n",
    "    comp(mc_plus, pivot, 'pivot')\n",
    "    comp(mc_plus, delta, 'delta')\n",
    "\n",
    "    # add multi points 100 point\n",
    "    print('>>> add multiple points.')\n",
    "\n",
    "    mc = load_npy('mc_size100m30.npy')\n",
    "    mc_plus = load_npy('mc_plus_size100.npy')\n",
    "    pivot = load_npy('am_pivot_size100m30.npy')\n",
    "    delta = load_npy('am_delta_size100m30.npy')# TODO\n",
    "\n",
    "    comp(mc_plus, mc, 'mc')\n",
    "    comp(mc_plus, pivot, 'pivot')\n",
    "    comp(mc_plus, delta, 'delta') # TODO\n",
    "\n",
    "    # del a single point 100 point\n",
    "    print('>>> delete a single point.')\n",
    "    mc = load_npy('ds_mc_size100m30.npy')\n",
    "    mc_plus = load_npy('ds_mc_plus_size100.npy')\n",
    "    delta = load_npy('ds_delta_size100m30.npy')\n",
    "\n",
    "\n",
    "    comp(mc_plus, mc, 'mc')\n",
    "    comp(mc_plus, delta, 'delta')\n",
    "\n",
    "    # del multi points 100 point\n",
    "    print('>>> delete multiple points.')\n",
    "    mc = load_npy('dm_mc_size100m30.npy')\n",
    "    mc_plus = load_npy('dm_mc_plus_size100.npy')\n",
    "    delta = load_npy('dm_delta_size100m30.npy')\n",
    "\n",
    "    comp(mc_plus, mc, 'mc')\n",
    "    comp(mc_plus, delta, 'delta')\n",
    "\n",
    "    print('+-----------------+')\n",
    "    print('|   200 points    |')\n",
    "    print('+-----------------+')\n",
    "\n",
    "    # add a single point 200 point\n",
    "    print('>>> add a single point.')\n",
    "\n",
    "    mc = load_npy('as_mc_size200m30.npy')\n",
    "    mc_plus = load_npy('as_mc_plus_size200.npy')\n",
    "    pivot = load_npy('as_pivot_size200m8.npy') # TODO\n",
    "    delta = load_npy('as_delta_size200m8.npy') # TODO\n",
    "\n",
    "\n",
    "    comp(mc_plus, mc, 'mc')\n",
    "    comp(mc_plus, pivot, 'pivot')\n",
    "    comp(mc_plus, delta, 'delta')\n",
    "\n",
    "    # add multi points 200 point\n",
    "    print('>>> add multiple points.')\n",
    "\n",
    "    mc = load_npy('am_mc_size200m30.npy')\n",
    "    mc_plus = load_npy('am_mc_plus_size200.npy')\n",
    "    pivot = load_npy('am_pivot_size200m8.npy') # TODO\n",
    "    delta = load_npy('am_delta_size200m15.npy') # TODO\n",
    "\n",
    "\n",
    "    comp(mc_plus, mc, 'mc')\n",
    "    comp(mc_plus, pivot, 'pivot')\n",
    "    comp(mc_plus, delta, 'delta')\n",
    "\n",
    "    # del a single point 200 point\n",
    "    print('>>> delete a single point.')\n",
    "    mc = load_npy('ds_mc_size200m30.npy')\n",
    "    mc_plus = load_npy('ds_mc_plus_size200.npy')\n",
    "    delta = load_npy('ds_delta_size200m30.npy')\n",
    "\n",
    "\n",
    "    comp(mc_plus, mc, 'mc')\n",
    "    comp(mc_plus, delta, 'delta')\n",
    "\n",
    "    # del multi points 200 point\n",
    "    print('>>> delete multiple points.')\n",
    "    mc = load_npy('dm_mc_size200m30.npy')\n",
    "    mc_plus = load_npy('dm_mc_plus_size200.npy')\n",
    "    delta = load_npy('dm_delta_size200m30.npy')\n",
    "\n",
    "    comp(mc_plus, mc, 'mc')\n",
    "    comp(mc_plus, delta, 'delta')"
   ]
  },
  {
   "cell_type": "code",
   "execution_count": null,
   "metadata": {
    "pycharm": {
     "name": "#%%\n"
    }
   },
   "outputs": [],
   "source": [
    "compare()"
   ]
  },
  {
   "cell_type": "markdown",
   "metadata": {
    "pycharm": {
     "name": "#%% md\n"
    }
   },
   "source": [
    "## 4 Additional exp part\n",
    "\n",
    "> using data augmentation to make the train data size up tp 10,000"
   ]
  },
  {
   "cell_type": "code",
   "execution_count": null,
   "metadata": {
    "pycharm": {
     "name": "#%%\n"
    }
   },
   "outputs": [],
   "source": [
    "def time_function(f, *args):\n",
    "    \"\"\"\n",
    "    Call a function f with args and return the time (in seconds) that it took to execute.\n",
    "    \"\"\"\n",
    "    import time\n",
    "    tic = time.time()\n",
    "    f(*args)\n",
    "    toc = time.time()\n",
    "    return toc - tic"
   ]
  },
  {
   "cell_type": "code",
   "execution_count": null,
   "metadata": {
    "pycharm": {
     "name": "#%%\n"
    }
   },
   "outputs": [],
   "source": []
  },
  {
   "cell_type": "code",
   "execution_count": null,
   "metadata": {
    "pycharm": {
     "name": "#%%\n"
    }
   },
   "outputs": [],
   "source": [
    "x_train, y_train, x_test, y_test, cols = preprocess_data('s_train_10000p.csv', 's_test_10000p.csv')\n",
    "x_train = np.append(x_train, x_test[:2], axis=0)\n",
    "y_train = np.append(y_train, y_test[:2], axis=0)\n",
    "y_test = x_test[2:]\n",
    "x_test = y_test[2:]\n",
    "\n",
    "print('+-----------------------+')\n",
    "print('| scalability time test |')\n",
    "print('+-----------------------+')\n",
    "\n",
    "print('>>> 10,000 points - add a single point')\n",
    "\n",
    "# delta\n",
    "delta_shap = dynashap.DeltaShap(x_train[:9999], y_train[:9999], x_test, y_test,\n",
    "                                SVC(decision_function_shape='ovo'), np.zeros(9999))\n",
    "# time_function(delta_shap.add_single_point, x_train[-1], y_train[-1], 100)\n",
    "delta_shap.add_single_point(x_train[-1], y_train[-1], m=100)\n",
    "\n",
    "# pivot\n",
    "pivot_shap = dynashap.PivotShap(x_train[:9999], y_train[:9999], x_test, y_test,\n",
    "                              SVC(decision_function_shape='ovo'), np.zeros(9999))\n",
    "# time_function(delta_shap.add_single_point, x_train[-1], y_train[-1], 100)\n",
    "pivot_shap.add_single_point(x_train[-1], y_train[-1], m=100)\n",
    "\n",
    "# knn\n",
    "knn_config = {\n",
    "    'params': {\n",
    "        'method': 'knn'\n",
    "    },\n",
    "}\n",
    "\n",
    "knn_shap = dynashap.HeurShap(x_train[:9999], y_train[:9999], x_test, y_test,\n",
    "                              SVC(decision_function_shape='ovo'), np.zeros(9999), params=knn_config['params'])\n",
    "\n",
    "knn_prepare_config = {\n",
    "    'params': {\n",
    "        'n_neighbors': 5,\n",
    "    },\n",
    "}\n",
    "knn_shap.prepare(params=knn_prepare_config['params'])\n",
    "# time_function(knn_shap.add_single_point, x_train[-1], y_train[-1])\n",
    "knn_shap.add_single_point(x_train[-1], y_train[-1])\n",
    "\n",
    "# knn+\n",
    "knn_plus_config = {\n",
    "    'params': {\n",
    "        'method': 'knn+'\n",
    "    },\n",
    "}\n",
    "\n",
    "knn_plus_shap = dynashap.HeurShap(x_train[:9999], y_train[:9999], x_test, y_test,\n",
    "                              SVC(decision_function_shape='ovo'), np.zeros(9999), params=knn_plus_config['params'])\n",
    "\n",
    "knn_plus_prepare_config = {\n",
    "    'flags': {\n",
    "        'exact': False,\n",
    "        'train': False\n",
    "    },\n",
    "    'params': {\n",
    "        'n_neighbors': 5,\n",
    "        'simi_type': 'ed',\n",
    "        'f_shap': 'n*n',\n",
    "        'rela': ['poly', 2],\n",
    "        'train_idxs': [3, 11, 18],\n",
    "        'train_svs': [np.zeros(9998)] * 3\n",
    "    },\n",
    "}\n",
    "knn_plus_shap.prepare(knn_plus_prepare_config['flags'],\n",
    "                      knn_plus_prepare_config['params'])\n",
    "# time_function(knn_plus_shap.add_single_point, x_train[-1], y_train[-1])\n",
    "knn_plus_shap.add_single_point(x_train[-1], y_train[-1])"
   ]
  },
  {
   "cell_type": "code",
   "execution_count": null,
   "metadata": {
    "pycharm": {
     "name": "#%%\n"
    }
   },
   "outputs": [],
   "source": [
    "print('>>> 10,000 points - add multiple point')\n",
    "\n",
    "# delta\n",
    "delta_shap = dynashap.DeltaShap(x_train[:9998], y_train[:9998], x_test, y_test,\n",
    "                                SVC(decision_function_shape='ovo'), np.zeros(9998))\n",
    "delta_shap.add_single_point(x_train[-2], y_train[-2], m=100, flags={'flag_update': True})\n",
    "delta_shap.add_single_point(x_train[-1], y_train[-1], m=100, flags={'flag_update': True})\n",
    "\n",
    "# pivot\n",
    "pivot_shap = dynashap.PivotShap(x_train[:9998], y_train[:9998], x_test, y_test,\n",
    "                              SVC(decision_function_shape='ovo'), np.zeros(9998))\n",
    "pivot_shap.add_single_point(x_train[-2], y_train[-2], m=100, flags={'flag_lsv': True})\n",
    "pivot_shap.add_single_point(x_train[-1], y_train[-1], m=100, flags={'flag_lsv': True})\n",
    "\n",
    "# knn\n",
    "knn_config = {\n",
    "    'params': {\n",
    "        'method': 'knn'\n",
    "    },\n",
    "}\n",
    "\n",
    "knn_shap = dynashap.HeurShap(x_train[:9999], y_train[:9999], x_test, y_test,\n",
    "                              SVC(decision_function_shape='ovo'), np.zeros(9999), params=knn_config['params'])\n",
    "\n",
    "knn_prepare_config = {\n",
    "    'params': {\n",
    "        'n_neighbors': 5,\n",
    "    },\n",
    "}\n",
    "knn_shap.prepare(params=knn_prepare_config['params'])\n",
    "# time_function(knn_shap.add_multi_points, x_train[-2:], y_train[-2:])\n",
    "knn_shap.add_multi_points(x_train[-2:], y_train[-2:])\n",
    "\n",
    "# knn+\n",
    "knn_plus_config = {\n",
    "    'params': {\n",
    "        'method': 'knn+'\n",
    "    },\n",
    "}\n",
    "\n",
    "knn_plus_shap = dynashap.HeurShap(x_train[:9998], y_train[:9998], x_test, y_test,\n",
    "                                  SVC(decision_function_shape='ovo'), np.zeros(9998), params=knn_plus_config['params'])\n",
    "\n",
    "knn_plus_prepare_config = {\n",
    "    'flags': {\n",
    "        'exact': False,\n",
    "        'train': False\n",
    "    },\n",
    "    'params': {\n",
    "        'n_neighbors': 5,\n",
    "        'simi_type': 'ed',\n",
    "        'f_shap': 'n*n',\n",
    "        'rela': ['poly', 2],\n",
    "        'train_idxs': [3, 11, 18],\n",
    "        'train_svs': [np.zeros(9997)] * 3\n",
    "    },\n",
    "}\n",
    "knn_plus_shap.prepare(knn_plus_prepare_config['flags'],\n",
    "                      knn_plus_prepare_config['params'])\n",
    "# time_function(knn_plus_shap.add_multi_points, x_train[-2:], y_train[-2:])\n",
    "knn_plus_shap.add_multi_points(x_train[-2:], y_train[-2:])"
   ]
  },
  {
   "cell_type": "code",
   "execution_count": null,
   "metadata": {
    "pycharm": {
     "name": "#%%\n"
    }
   },
   "outputs": [],
   "source": [
    "print('>>> 10,000 points - del a single point')\n",
    "\n",
    "# yn-nn\n",
    "del_num = 1\n",
    "yn_shap = dynashap.YnShap(x_train[:10001], y_train[:10001], x_test, y_test,\n",
    "                          SVC(decision_function_shape='ovo'), np.zeros(10001))\n",
    "yn_shap.del_num = del_num\n",
    "shape = tuple([10001]) * (del_num + 2)\n",
    "yn_shap.yn = np.zeros(shape)\n",
    "yn_shap.nn = np.zeros(shape)\n",
    "yn_shap.del_single_point(10000, flags={'exact': False})\n",
    "\n",
    "# delta\n",
    "delta_shap = dynashap.DeltaShap(x_train[:10001], y_train[:10001], x_test, y_test,\n",
    "                                SVC(decision_function_shape='ovo'), np.zeros(10001))\n",
    "delta_shap.del_single_point(10000, m=100, flags={'flag_update': True})\n",
    "\n",
    "# knn\n",
    "knn_config = {\n",
    "    'params': {\n",
    "        'method': 'knn'\n",
    "    },\n",
    "}\n",
    "\n",
    "knn_shap = dynashap.HeurShap(x_train[:10001], y_train[:10001], x_test, y_test,\n",
    "                              SVC(decision_function_shape='ovo'), np.zeros(10001), params=knn_config['params'])\n",
    "\n",
    "knn_prepare_config = {\n",
    "    'params': {\n",
    "        'n_neighbors': 5,\n",
    "    },\n",
    "}\n",
    "knn_shap.prepare(params=knn_prepare_config['params'])\n",
    "knn_shap.del_single_point(10000)\n",
    "\n",
    "# knn+\n",
    "knn_plus_config = {\n",
    "    'params': {\n",
    "        'method': 'knn+'\n",
    "    },\n",
    "}\n",
    "\n",
    "knn_plus_shap = dynashap.HeurShap(x_train[:10001], y_train[:10001], x_test, y_test,\n",
    "                                  SVC(decision_function_shape='ovo'), np.zeros(10001), params=knn_plus_config['params'])\n",
    "\n",
    "knn_plus_prepare_config = {\n",
    "    'flags': {\n",
    "        'exact': False,\n",
    "        'train': False\n",
    "    },\n",
    "    'params': {\n",
    "        'n_neighbors': 5,\n",
    "        'simi_type': 'ed',\n",
    "        'f_shap': 'n*n',\n",
    "        'rela': ['poly', 2],\n",
    "        'train_idxs': [3, 11, 18],\n",
    "        'train_svs': [np.zeros(10000)] * 3\n",
    "    },\n",
    "}\n",
    "knn_plus_shap.prepare(knn_plus_prepare_config['flags'],\n",
    "                      knn_plus_prepare_config['params'])\n",
    "knn_plus_shap.add_multi_points([10000])"
   ]
  },
  {
   "cell_type": "code",
   "execution_count": null,
   "metadata": {
    "pycharm": {
     "name": "#%%\n"
    }
   },
   "outputs": [],
   "source": [
    "print('>>> 10,000 points - del multiple point')\n",
    "\n",
    "# ynn-nnn\n",
    "del_num = 2\n",
    "yn_shap = dynashap.YnShap(x_train[:10002], y_train[:10002], x_test, y_test,\n",
    "                          SVC(decision_function_shape='ovo'), np.zeros(10002))\n",
    "yn_shap.del_num = del_num\n",
    "shape = tuple([10001]) * (del_num + 2)\n",
    "yn_shap.yn = np.zeros(shape)\n",
    "yn_shap.nn = np.zeros(shape)\n",
    "yn_shap.del_multi_points([10001, 10000], flags={'exact': False})\n",
    "\n",
    "# delta\n",
    "delta_shap = dynashap.DeltaShap(x_train[:10002], y_train[:10002], x_test, y_test,\n",
    "                                SVC(decision_function_shape='ovo'), np.zeros(10002))\n",
    "delta_shap.del_single_point(10001, m=100, flags={'flag_update': True})\n",
    "delta_shap.del_single_point(10000, m=100, flags={'flag_update': True})\n",
    "\n",
    "# knn\n",
    "knn_config = {\n",
    "    'params': {\n",
    "        'method': 'knn'\n",
    "    },\n",
    "}\n",
    "\n",
    "knn_shap = dynashap.HeurShap(x_train[:10002], y_train[:10002], x_test, y_test,\n",
    "                              SVC(decision_function_shape='ovo'), np.zeros(10002), params=knn_config['params'])\n",
    "\n",
    "knn_prepare_config = {\n",
    "    'params': {\n",
    "        'n_neighbors': 5,\n",
    "    },\n",
    "}\n",
    "knn_shap.prepare(params=knn_prepare_config['params'])\n",
    "knn_shap.del_single_point([10000, 10001])\n",
    "\n",
    "# knn+\n",
    "knn_plus_config = {\n",
    "    'params': {\n",
    "        'method': 'knn+'\n",
    "    },\n",
    "}\n",
    "\n",
    "knn_plus_shap = dynashap.HeurShap(x_train[:10002], y_train[:10002], x_test, y_test,\n",
    "                                  SVC(decision_function_shape='ovo'), np.zeros(10002), params=knn_plus_config['params'])\n",
    "\n",
    "knn_plus_prepare_config = {\n",
    "    'flags': {\n",
    "        'exact': False,\n",
    "        'train': False\n",
    "    },\n",
    "    'params': {\n",
    "        'n_neighbors': 5,\n",
    "        'simi_type': 'ed',\n",
    "        'f_shap': 'n*n',\n",
    "        'rela': ['poly', 2],\n",
    "        'train_idxs': [3, 11, 18],\n",
    "        'train_svs': [np.zeros(10001)] * 3\n",
    "    },\n",
    "}\n",
    "knn_plus_shap.prepare(knn_plus_prepare_config['flags'],\n",
    "                      knn_plus_prepare_config['params'])\n",
    "knn_plus_shap.add_multi_points([10000, 10001])"
   ]
  }
 ],
 "metadata": {
  "kernelspec": {
   "display_name": "Python 3",
   "language": "python",
   "name": "python3"
  },
  "language_info": {
   "codemirror_mode": {
    "name": "ipython",
    "version": 3
   },
   "file_extension": ".py",
   "mimetype": "text/x-python",
   "name": "python",
   "nbconvert_exporter": "python",
   "pygments_lexer": "ipython3",
   "version": "3.7.10"
  }
 },
 "nbformat": 4,
 "nbformat_minor": 1
}