{
 "cells": [
  {
   "cell_type": "markdown",
   "metadata": {
    "collapsed": true,
    "pycharm": {
     "name": "#%% md\n"
    }
   },
   "source": [
    "# Effectiveness - Add multiple points"
   ]
  },
  {
   "cell_type": "code",
   "execution_count": null,
   "outputs": [],
   "source": [
    "import sys\n",
    "sys.path.append(\"..\")\n",
    "\n",
    "from sklearn import svm\n",
    "import numpy as np\n",
    "\n",
    "import dynashap\n",
    "\n",
    "from examples.data_utils import (\n",
    "    load_npy, save_npy, preprocess_data, variance, normalize\n",
    ")"
   ],
   "metadata": {
    "collapsed": false,
    "pycharm": {
     "name": "#%%\n"
    }
   }
  },
  {
   "cell_type": "code",
   "execution_count": null,
   "outputs": [],
   "source": [
    "# Read data\n",
    "x_train, y_train, x_test, y_test, \\\n",
    "columns_name = \\\n",
    "    preprocess_data('train_80p_2c.csv', 'test_80p_2c.csv')\n",
    "\n",
    "x_train = x_train[:,:2]\n",
    "x_test = x_test[:,:2]\n",
    "\n",
    "add_point_idxs = [5, 13]\n",
    "\n",
    "# pick two points from test for add\n",
    "add_points_x = x_test[add_point_idxs, :2]\n",
    "add_points_y = y_test[add_point_idxs]\n",
    "\n",
    "x_train_added = np.append(x_train[:, :2], add_points_x, axis=0)\n",
    "y_train_added = np.append(y_train, add_points_y)\n",
    "\n",
    "x_test_added = np.delete(x_test[:, :2], add_point_idxs, axis=0)\n",
    "y_test_added = np.delete(y_test, add_point_idxs)\n",
    "\n",
    "x_test = x_test_added\n",
    "y_test = y_test_added\n",
    "\n",
    "\n",
    "model = svm.SVC(decision_function_shape='ovo')\n",
    "\n",
    "mc_plus_sv_82 = dynashap.mc_shap(x_train_added, y_train_added, x_test_added, y_test_added, model,\n",
    "                                 1000*len(y_train_added), 4)\n",
    "save_npy('mc_plus_sv_82.npy', mc_plus_sv_82)\n",
    "\n",
    "# init sv\n",
    "model = svm.SVC(decision_function_shape='ovo')\n",
    "\n",
    "mc_plus_sv_80 = dynashap.mc_shap(x_train, y_train, x_test_added, y_test_added, model,\n",
    "                                 1000*len(y_train), 4)\n",
    "save_npy('mc_plus_sv_80.npy', mc_plus_sv_80)\n",
    "\n",
    "model = svm.SVC(decision_function_shape='ovo')\n",
    "mc_sv_82 = dynashap.mc_shap(x_train_added, y_train_added, x_test_added, y_test_added, model,\n",
    "                           100*len(y_train_added), 1)\n",
    "save_npy('mc_sv_82.npy', mc_sv_82)\n",
    "\n",
    "# delta\n",
    "init_sv = load_npy('mc_plus_sv_80.npy')\n",
    "\n",
    "delta_shap = dynashap.DeltaShap(x_train, y_train, x_test_added, y_test_added, model,\n",
    "                                init_sv)\n",
    "sv_81 = delta_shap.add_single_point(add_points_x[0], add_points_y[0],\n",
    "                            100*(len(y_train)+1))\n",
    "delta_shap = dynashap.DeltaShap(np.append(x_train, [add_points_x[0]], axis=0),\n",
    "                                np.append(y_train, [add_points_y[0]]),\n",
    "                                x_test_added, y_test_added, model,\n",
    "                                sv_81)\n",
    "delta_sv_82 = delta_shap.add_single_point(add_points_x[1], add_points_y[1],\n",
    "                            100*(len(y_train)+2))\n",
    "\n",
    "save_npy('delta_sv_82.npy', delta_sv_82)\n",
    "\n",
    "# pivot\n",
    "init_sv = load_npy('mc_plus_sv_80.npy')\n",
    "\n",
    "pivot_shap = dynashap.PivotShap(x_train, y_train, x_test_added, y_test_added, model,\n",
    "                              init_sv)\n",
    "\n",
    "lsv_80 = pivot_shap.prepare(1000*len(y_train))\n",
    "save_npy('lsv_80.npy', lsv_80)\n",
    "\n",
    "sv_81 = pivot_shap.add_single_point(add_points_x[0], add_points_y[0],\n",
    "                            100*(len(y_train)+1), flags={'flag_lsv': True})\n",
    "\n",
    "pivot_shap.x_train = np.append(x_train, [add_points_x[0]], axis=0)\n",
    "pivot_shap.y_train = np.append(y_train, add_points_y[0])\n",
    "\n",
    "pivot_sv_82 = pivot_shap.add_single_point(add_points_x[1], add_points_y[1],\n",
    "                                        100*(len(y_train)+2), flags={'flag_lsv': True})\n",
    "\n",
    "save_npy('pivot_sv_82.npy', pivot_sv_82)"
   ],
   "metadata": {
    "collapsed": false,
    "pycharm": {
     "name": "#%%\n"
    }
   }
  },
  {
   "cell_type": "code",
   "execution_count": null,
   "outputs": [],
   "source": [
    "model = svm.SVC(decision_function_shape='ovo')\n",
    "init_sv = load_npy('mc_plus_sv_80.npy')\n",
    "\n",
    "# KNN\n",
    "heur_shap = dynashap.HeurShap(x_train, y_train,\n",
    "                              x_test_added, y_test_added,\n",
    "                              model, init_sv,\n",
    "                              params={'method': 'knn'})\n",
    "heur_shap.prepare(params={'n_neighbors': 3})\n",
    "knn_sv_82 = heur_shap.add_multi_points(add_points_x, add_points_y)\n",
    "save_npy('knn_sv_82.npy', knn_sv_82)\n",
    "\n",
    "# for simi\n",
    "model = svm.SVC(decision_function_shape='ovo')\n",
    "\n",
    "idxs = [13, 78]\n",
    "svs = list()\n",
    "\n",
    "for idx in idxs:\n",
    "    sv = dynashap.mc_shap(np.delete(x_train, idx, axis=0),\n",
    "                          np.delete(y_train, idx),\n",
    "                          x_test_added, y_test_added,\n",
    "                          model, 1000*79, 4)\n",
    "    save_npy('mc_plus_sv_79_del'+str(idx)+'.npy', sv)\n",
    "    svs.append(sv)\n",
    "\n",
    "svs = np.asarray(svs)\n",
    "\n",
    "save_npy('knn_plus_svs.npy', svs)\n",
    "\n",
    "\n",
    "# KNN+\n",
    "heur_shap = dynashap.HeurShap(x_train, y_train,\n",
    "                              x_test_added, y_test_added,\n",
    "                              model, init_sv,\n",
    "                              params={'method': 'knn+'})\n",
    "\n",
    "heur_shap.prepare(flags={'exact': False, 'train': False},\n",
    "                  params={'n_neighbors': 3,\n",
    "                          'simi_type': 'ed',\n",
    "                          'f_shap': 'n*n',\n",
    "                          'rela': ['poly', 1],\n",
    "                          'train_idxs': [13, 78],\n",
    "                          'train_svs': load_npy('knn_plus_svs.npy')})\n",
    "\n",
    "knn_plus_sv_82 = heur_shap.add_multi_points(add_points_x, add_points_y)\n",
    "save_npy('knn_plus_sv_82.npy', knn_plus_sv_82)"
   ],
   "metadata": {
    "collapsed": false,
    "pycharm": {
     "name": "#%%\n"
    }
   }
  },
  {
   "cell_type": "code",
   "execution_count": null,
   "outputs": [],
   "source": [
    "model = svm.SVC(decision_function_shape='ovo')\n",
    "init_sv = load_npy('mc_plus_sv_80.npy')\n",
    "base_shap = dynashap.BaseShap(x_train, y_train, x_test_added,\n",
    "                              y_test_added, model, init_sv)\n",
    "\n",
    "# average based\n",
    "base_sv_82_avg = base_shap.add_multi_points(add_points_x,\n",
    "                                            add_points_y,\n",
    "                                            params={'method': 'avg'})\n",
    "\n",
    "# leave one out based\n",
    "base_sv_82_loo = base_shap.add_multi_points(add_points_x,\n",
    "                                            add_points_y,\n",
    "                                            params={'method': 'loo'})\n",
    "\n",
    "save_npy('base_sv_82_avg.npy', base_sv_82_avg)\n",
    "\n",
    "save_npy('base_sv_82_loo.npy', base_sv_82_loo)\n",
    "\n",
    "# comparison\n",
    "def comp(base_v, comp_sv, name):\n",
    "    var = variance(base_v, normalize(base_v, comp_sv))\n",
    "    print(\"variance of %s   \\t : %.10f\" % (name, var))\n",
    "\n",
    "mc_plus_sv_82 = load_npy('mc_plus_sv_82.npy')\n",
    "\n",
    "comp(mc_plus_sv_82, load_npy('delta_sv_82.npy'), 'delta')\n",
    "comp(mc_plus_sv_82, load_npy('pivot_sv_82.npy'), 'pivot')\n",
    "comp(mc_plus_sv_82, load_npy('knn_sv_82.npy'), 'knn')\n",
    "comp(mc_plus_sv_82, load_npy('knn_plus_sv_82.npy'), 'knn+')\n",
    "comp(mc_plus_sv_82, load_npy('mc_sv_82.npy'), 'mc')\n",
    "comp(mc_plus_sv_82, load_npy('base_sv_82_loo.npy'), 'base loo')\n",
    "comp(mc_plus_sv_82, load_npy('base_sv_82_avg.npy'), 'base avg')"
   ],
   "metadata": {
    "collapsed": false,
    "pycharm": {
     "name": "#%%\n"
    }
   }
  }
 ],
 "metadata": {
  "kernelspec": {
   "display_name": "Python 3",
   "language": "python",
   "name": "python3"
  },
  "language_info": {
   "codemirror_mode": {
    "name": "ipython",
    "version": 2
   },
   "file_extension": ".py",
   "mimetype": "text/x-python",
   "name": "python",
   "nbconvert_exporter": "python",
   "pygments_lexer": "ipython2",
   "version": "2.7.6"
  }
 },
 "nbformat": 4,
 "nbformat_minor": 0
}