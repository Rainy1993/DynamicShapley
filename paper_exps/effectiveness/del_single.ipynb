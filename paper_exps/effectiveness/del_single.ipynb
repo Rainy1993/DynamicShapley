{
 "cells": [
  {
   "cell_type": "markdown",
   "source": [
    "# Effectiveness - Delete a single point\n"
   ],
   "metadata": {
    "collapsed": false,
    "pycharm": {
     "name": "#%% md\n"
    }
   }
  },
  {
   "cell_type": "code",
   "execution_count": null,
   "outputs": [],
   "source": [
    "import sys\n",
    "sys.path.append(\"..\")\n",
    "\n",
    "from sklearn import svm\n",
    "import numpy as np\n",
    "\n",
    "import dynashap\n",
    "\n",
    "from examples.data_utils import (\n",
    "    load_npy, save_npy, preprocess_data, variance, normalize\n",
    ")"
   ],
   "metadata": {
    "collapsed": false,
    "pycharm": {
     "name": "#%%\n"
    }
   }
  },
  {
   "cell_type": "code",
   "execution_count": null,
   "outputs": [],
   "source": [
    "model = svm.SVC(decision_function_shape='ovo')\n",
    "x_train, y_train, x_test, y_test, _ = preprocess_data('train_100p_3c.csv', 'test_100p_3c.csv')\n",
    "\n",
    "mc_plus_sv_99 = dynashap.mc_shap(x_train[:99], y_train[:99], x_test, y_test, model, m=99*1000)\n",
    "save_npy('mc_plus_sv_99.npy', mc_plus_sv_99)\n",
    "\n",
    "mc_sv_99 = dynashap.mc_shap(x_train[:99], y_train[:99], x_test, y_test, model, m=99*100)\n",
    "save_npy('mc_sv_99.npy', mc_plus_sv_99)"
   ],
   "metadata": {
    "collapsed": false,
    "pycharm": {
     "name": "#%%\n"
    }
   }
  },
  {
   "cell_type": "code",
   "execution_count": null,
   "outputs": [],
   "source": [
    "# delta\n",
    "init_sv = load_npy('mc_plus_sv_100.npy')\n",
    "\n",
    "delta_shap = dynashap.DeltaShap(x_train, y_train, x_test, y_test, model,\n",
    "                                init_sv)\n",
    "delta_sv_99 = delta_shap.del_single_point(99, 100*(len(y_train)-1))\n",
    "\n",
    "save_npy('delta_sv_99.npy', delta_sv_99)"
   ],
   "metadata": {
    "collapsed": false,
    "pycharm": {
     "name": "#%%\n"
    }
   }
  },
  {
   "cell_type": "code",
   "execution_count": null,
   "outputs": [],
   "source": [
    "model = svm.SVC(decision_function_shape='ovo')\n",
    "init_sv = load_npy('mc_plus_sv_100.npy')\n",
    "\n",
    "# KNN\n",
    "heur_shap = dynashap.HeurShap(x_train, y_train,\n",
    "                              x_test, y_test,\n",
    "                              model, init_sv,\n",
    "                              params={'method': 'knn'})\n",
    "heur_shap.prepare(params={'n_neighbors': 3})\n",
    "knn_sv_99 = heur_shap.del_single_point(99)\n",
    "save_npy('knn_sv_99.npy', knn_sv_99)\n",
    "\n",
    "# for simi\n",
    "model = svm.SVC(decision_function_shape='ovo')\n",
    "\n",
    "idxs = [18, 56, 89]\n",
    "svs = list()\n",
    "\n",
    "for idx in idxs:\n",
    "    sv = dynashap.mc_shap(np.delete(x_train, idx, axis=0),\n",
    "                          np.delete(y_train, idx),\n",
    "                          x_test, y_test,\n",
    "                          model, 1000*99, 4)\n",
    "    save_npy('mc_plus_sv_99_del'+str(idx)+'.npy', sv)\n",
    "    svs.append(sv)\n",
    "\n",
    "svs = np.asarray(svs)\n",
    "\n",
    "save_npy('knn_plus_svs.npy', svs)\n",
    "\n",
    "# KNN+\n",
    "heur_shap = dynashap.HeurShap(x_train, y_train,\n",
    "                              x_test, y_test,\n",
    "                              model, init_sv,\n",
    "                              params={'method': 'knn+'})\n",
    "\n",
    "heur_shap.prepare(flags={'exact': False, 'train': False},\n",
    "                  params={'n_neighbors': 3,\n",
    "                          'simi_type': 'ed',\n",
    "                          'f_shap': 'n*n',\n",
    "                          'rela': ['poly', 1],\n",
    "                          'train_idxs': [18, 56, 89],\n",
    "                          'train_svs': load_npy('knn_plus_svs.npy')})\n",
    "\n",
    "knn_plus_sv_99 = heur_shap.del_single_point(99)\n",
    "save_npy('knn_plus_sv_99.npy', knn_plus_sv_99)"
   ],
   "metadata": {
    "collapsed": false,
    "pycharm": {
     "name": "#%%\n"
    }
   }
  },
  {
   "cell_type": "code",
   "execution_count": null,
   "outputs": [],
   "source": [
    "# comparison\n",
    "def comp(base_v, comp_sv, name):\n",
    "    var = variance(base_v, normalize(base_v, comp_sv))\n",
    "    print(\"variance of %s   \\t : %.10f\" % (name, var))\n",
    "    "
   ],
   "metadata": {
    "collapsed": false,
    "pycharm": {
     "name": "#%%\n"
    }
   }
  },
  {
   "cell_type": "code",
   "execution_count": null,
   "outputs": [],
   "source": [
    "comp(mc_plus_sv_99, load_npy('delta_sv_99.npy'), 'delta')\n",
    "comp(mc_plus_sv_99, load_npy('knn_sv_99.npy'), 'knn')\n",
    "comp(mc_plus_sv_99, load_npy('knn_plus_sv_99.npy'), 'knn+')\n",
    "comp(mc_plus_sv_99, load_npy('mc_sv_99.npy'), 'mc')"
   ],
   "metadata": {
    "collapsed": false,
    "pycharm": {
     "name": "#%%\n"
    }
   }
  }
 ],
 "metadata": {
  "kernelspec": {
   "display_name": "Python 3",
   "language": "python",
   "name": "python3"
  },
  "language_info": {
   "codemirror_mode": {
    "name": "ipython",
    "version": 2
   },
   "file_extension": ".py",
   "mimetype": "text/x-python",
   "name": "python",
   "nbconvert_exporter": "python",
   "pygments_lexer": "ipython2",
   "version": "2.7.6"
  }
 },
 "nbformat": 4,
 "nbformat_minor": 0
}