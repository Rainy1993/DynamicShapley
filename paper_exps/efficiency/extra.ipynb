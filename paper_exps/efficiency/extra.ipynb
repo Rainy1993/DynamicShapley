{
 "cells": [
  {
   "cell_type": "markdown",
   "metadata": {
    "collapsed": true,
    "pycharm": {
     "name": "#%% md\n"
    }
   },
   "source": [
    "# Extra Part\n",
    "\n",
    "> Updated at 2021/06/21 15:00\n",
    "\n",
    "This part contains two parts, including adding one point and adding two points using pivot-based algorithm with the same/different permutations.\n",
    "\n",
    "*Attention:* pivot-based algorithm with the same/different permutations will be called `pivot_s` and `pivot_d` below.\n",
    "\n",
    "There are 3 cases which are considered in this experiment.\n",
    "\n",
    "| No. | lsv permutations | rsv permutations | whose variance better |\n",
    "| - | - | - | - |\n",
    "| 0 | `pivot_s`  = `pivot_d` | `pivot_s`  = `pivot_d` | `pivot_s` |\n",
    "| 1 | `pivot_s`  < `pivot_d` | `pivot_s`  = `pivot_d` | `pivot_d` |\n",
    "| 2 | `pivot_s`  = `pivot_d` | `pivot_s`  < `pivot_d` | `pivot_d` |"
   ]
  },
  {
   "cell_type": "markdown",
   "metadata": {
    "collapsed": false,
    "pycharm": {
     "name": "#%% md\n"
    }
   },
   "source": [
    "## 0 Prepare environment"
   ]
  },
  {
   "cell_type": "code",
   "execution_count": null,
   "metadata": {
    "collapsed": false,
    "pycharm": {
     "name": "#%%\n"
    }
   },
   "outputs": [],
   "source": [
    "import dynashap\n",
    "\n",
    "from sklearn import svm\n",
    "import numpy as np\n",
    "from examples.data_utils import (\n",
    "    load_tabular_data, preprocess_data, variance, normalize, save_npy, load_npy, comp\n",
    ")\n",
    "\n",
    "np.set_printoptions(precision=10)\n",
    "model = svm.SVC(decision_function_shape='ovo')\n",
    "\n",
    "repeat = 2\n",
    "success_req = 2"
   ]
  },
  {
   "cell_type": "code",
   "execution_count": null,
   "metadata": {
    "collapsed": false,
    "pycharm": {
     "name": "#%%\n"
    }
   },
   "outputs": [],
   "source": [
    "# Get data from parent folders\n",
    "!cp -r ../data_files ."
   ]
  },
  {
   "cell_type": "markdown",
   "metadata": {
    "collapsed": false,
    "pycharm": {
     "name": "#%% md\n"
    }
   },
   "source": [
    "## 1 Adding a single point"
   ]
  },
  {
   "cell_type": "code",
   "execution_count": null,
   "metadata": {
    "collapsed": false,
    "pycharm": {
     "name": "#%%\n"
    }
   },
   "outputs": [],
   "source": []
  },
  {
   "cell_type": "code",
   "execution_count": null,
   "metadata": {
    "collapsed": false,
    "pycharm": {
     "name": "#%%\n"
    }
   },
   "outputs": [],
   "source": [
    "# read\n",
    "x_train, y_train, x_test, y_test, _ = preprocess_data('train_100p_3c.csv',\n",
    "                                                      'test_100p_3c.csv')\n",
    "\n",
    "# pick a point from test for add\n",
    "select_idx = 25\n",
    "\n",
    "add_point_x = x_test[select_idx]\n",
    "add_point_y = y_test[select_idx]\n",
    "\n",
    "x_train_added = np.append(x_train, [x_test[select_idx,:]], axis=0)\n",
    "y_train_added = np.append(y_train, y_test[select_idx])\n",
    "\n",
    "x_test = np.delete(x_test, select_idx, axis=0)\n",
    "y_test = np.delete(y_test, select_idx)\n",
    "\n",
    "mc = dynashap.mc_shap(x_train_added, y_train_added, x_test, y_test, model, m=1000 * 100, proc_num=2)\n",
    "save_npy('mc_plus_sv_101.npy', mc)\n",
    "\n",
    "# Case 0\n",
    "pivot_shap = dynashap.PivotShap(x_train, y_train, x_test, y_test, model, None)\n",
    "pivot_shap.prepare(100 * 100, proc_num=4)\n",
    "pivot_sv_s = pivot_shap.add_single_point(add_point_x, add_point_y, proc_num=4,\n",
    "                                         flags={'flag_lsv': False},\n",
    "                                         params={'method': 's'})\n",
    "pivot_sv_d = pivot_shap.add_single_point(add_point_x, add_point_y, m=100 * 100,\n",
    "                                         proc_num=4, flags={'flag_lsv': False},\n",
    "                                         params={'method': 'd'})\n",
    "\n",
    "save_npy('eas_pivot_sv_s_tau100.npy', pivot_sv_s)\n",
    "save_npy('eas_pivot_sv_d_tau100_100.npy', pivot_sv_d)\n",
    "\n",
    "pivot_sv_s = load_npy('eas_pivot_sv_s_tau100.npy')\n",
    "pivot_sv_d = load_npy('eas_pivot_sv_d_tau100_100.npy')\n",
    "\n",
    "\n",
    "# Case 1\n",
    "start_time = 120\n",
    "step = 10\n",
    "\n",
    "current_time = 120\n",
    "mc_plus_sv = load_npy('mc_plus_sv_101.npy')\n",
    "mc_plus_sv = mc_plus_sv / np.sum(mc_plus_sv)\n",
    "base_var = variance(mc_plus_sv, pivot_sv_s / np.sum(pivot_sv_s))\n",
    "print(base_var, variance(mc_plus_sv, pivot_sv_d / np.sum(pivot_sv_d)))\n",
    "run = True\n",
    "while run:\n",
    "    # Start from the start times\n",
    "    success_cnt = 0\n",
    "    var_list = list()\n",
    "    for _ in range(repeat):\n",
    "        pivot_shap = dynashap.PivotShap(x_train, y_train, x_test, y_test, model, None)\n",
    "        pivot_shap.prepare(current_time * len(y_train), proc_num=2)\n",
    "        pivot_sv_d = pivot_shap.add_single_point(add_point_x, add_point_y, m=100 * len(y_train),\n",
    "                                                 proc_num=2, flags={'flag_lsv': False},\n",
    "                                                 params={'method': 'd'})\n",
    "        current_var = variance(mc_plus_sv / np.sum(mc_plus_sv),\n",
    "                               pivot_sv_d / np.sum(pivot_sv_d))\n",
    "        print('current var\\t', current_var)\n",
    "        var_list.append(current_var)\n",
    "        if current_var < base_var:\n",
    "            success_cnt += 1\n",
    "\n",
    "    if success_cnt >= success_req:\n",
    "        print('[info] case 1 terminated - success')\n",
    "        print('current time\\t', current_time)\n",
    "        print('base var\\t', base_var)\n",
    "        print('var list\\t', var_list)\n",
    "        run = False\n",
    "    else:\n",
    "        print('[info] case 1 - go on')\n",
    "        print('current time\\t', current_time)\n",
    "        print('base var\\t', base_var)\n",
    "        print('var list\\t', var_list)\n",
    "        current_time += step\n",
    "\n",
    "    # No more than 10 steps\n",
    "    if (current_time - start_time) / step > 10:\n",
    "        run = False\n",
    "\n",
    "# Case 2\n",
    "\n",
    "start_time = 140\n",
    "step = 10\n",
    "\n",
    "current_time = 140\n",
    "mc_plus_sv = load_npy('mc_plus_sv_101.npy')\n",
    "mc_plus_sv = mc_plus_sv / np.sum(mc_plus_sv)\n",
    "base_var = variance(mc_plus_sv, pivot_sv_s / np.sum(pivot_sv_s))\n",
    "run = True\n",
    "while run:\n",
    "    # Start from the start times\n",
    "    success_cnt = 0\n",
    "    var_list = list()\n",
    "    for _ in range(repeat):\n",
    "        pivot_shap = dynashap.PivotShap(x_train, y_train, x_test, y_test, model, None)\n",
    "        pivot_shap.prepare(100 * len(y_train), proc_num=2)\n",
    "        pivot_sv_d = pivot_shap.add_single_point(add_point_x, add_point_y, m=current_time * len(y_train),\n",
    "                                                 proc_num=2, flags={'flag_lsv': False},\n",
    "                                                 params={'method': 'd'})\n",
    "        current_var = variance(mc_plus_sv / np.sum(mc_plus_sv),\n",
    "                               pivot_sv_d / np.sum(pivot_sv_d))\n",
    "        var_list.append(current_var)\n",
    "        if current_var < base_var:\n",
    "            success_cnt += 1\n",
    "\n",
    "    if success_cnt >= success_req:\n",
    "        print('[info] ')\n",
    "        print('current time\\t', current_time)\n",
    "        print('base var\\t', base_var)\n",
    "        print('var list\\t', var_list)\n",
    "        run = False\n",
    "    else:\n",
    "        current_time += step\n",
    "\n",
    "    # No more than 10 steps\n",
    "    if (current_time - start_time) / step > 10:\n",
    "        run = False"
   ]
  },
  {
   "cell_type": "markdown",
   "metadata": {
    "collapsed": false,
    "pycharm": {
     "name": "#%% md\n"
    }
   },
   "source": [
    "## 2 Adding multi points"
   ]
  },
  {
   "cell_type": "code",
   "execution_count": null,
   "metadata": {
    "collapsed": false,
    "pycharm": {
     "name": "#%%\n"
    }
   },
   "outputs": [],
   "source": [
    "x_train, y_train, x_test, y_test, _ = preprocess_data('train_80p_2c.csv',\n",
    "                                                      'test_80p_2c.csv')\n",
    "\n",
    "# Select two features\n",
    "x_train = x_train[:,:2]\n",
    "x_test = x_test[:,:2]\n",
    "\n",
    "add_point_idxs = [5, 13]\n",
    "\n",
    "# Pick two points from test for add\n",
    "add_points_x = x_test[add_point_idxs]\n",
    "add_points_y = y_test[add_point_idxs]\n",
    "\n",
    "x_train_added = np.append(x_train, add_points_x, axis=0)\n",
    "y_train_added = np.append(y_train, add_points_y)\n",
    "\n",
    "x_test_added = np.delete(x_test, add_point_idxs, axis=0)\n",
    "y_test_added = np.delete(y_test, add_point_idxs)\n",
    "\n",
    "x_test = x_test_added\n",
    "y_test = y_test_added\n",
    "\n",
    "mc = dynashap.mc_shap(x_train_added, y_train_added, x_test, y_test, model, m=1000 * 80, proc_num=2)\n",
    "save_npy('mc_plus_sv_82.npy', mc)\n",
    "\n",
    "# Case 0\n",
    "pivot_shap = dynashap.PivotShap(x_train, y_train, x_test, y_test, model, None)\n",
    "pivot_shap.prepare(100 * 80, proc_num=2)\n",
    "pivot_shap.add_single_point(add_points_x[0], add_point_y[0], proc_num=2,\n",
    "                            flags={'flag_lsv': True},\n",
    "                            params={'method': 's'})\n",
    "pivot_sv_s = pivot_shap.add_single_point(add_point_x[1], add_point_y[1], proc_num=2,\n",
    "                                         flags={'flag_lsv': True},\n",
    "                                         params={'method': 's'})\n",
    "\n",
    "pivot_shap = dynashap.PivotShap(x_train, y_train, x_test, y_test, model, None)\n",
    "pivot_shap.prepare(100 * 80, proc_num=2)\n",
    "pivot_shap.add_single_point(add_points_x[0], add_points_y[0], m=100 * 80,\n",
    "                            proc_num=2, flags={'flag_lsv': True},\n",
    "                            params={'method': 'd'})\n",
    "pivot_sv_d = pivot_shap.add_single_point(add_points_x[1], add_points_y[1], m=100 * 80,\n",
    "                                         proc_num=2, flags={'flag_lsv': True},\n",
    "                                         params={'method': 'd'})\n",
    "\n",
    "save_npy('eam_pivot_sv_s_tau100.npy', pivot_sv_s)\n",
    "save_npy('eam_pivot_sv_d_tau100_100.npy', pivot_sv_d)\n",
    "\n",
    "# Case 1\n",
    "start_time = 110\n",
    "step = 10\n",
    "\n",
    "current_time = 110\n",
    "mc_plus_sv = load_npy('mc_plus_sv_82.npy')\n",
    "mc_plus_sv = mc_plus_sv / np.sum(mc_plus_sv)\n",
    "base_var = variance(mc_plus_sv, pivot_sv_s / np.sum(pivot_sv_s))\n",
    "run = True\n",
    "while run:\n",
    "    # Start from the start times\n",
    "    success_cnt = 0\n",
    "    var_list = list()\n",
    "    for _ in range(repeat):\n",
    "        pivot_shap = dynashap.PivotShap(x_train, y_train, x_test, y_test, model, None)\n",
    "        pivot_shap.prepare(current_time * len(y_train), proc_num=2)\n",
    "        pivot_shap.add_single_point(add_points_x[0], add_points_y[0], m=100 * 80,\n",
    "                                    proc_num=2, flags={'flag_lsv': True},\n",
    "                                    params={'method': 'd'})\n",
    "        pivot_sv_d = pivot_shap.add_single_point(add_points_x[1], add_points_y[1], m=100 * 80,\n",
    "                                                 proc_num=2, flags={'flag_lsv': True},\n",
    "                                                 params={'method': 'd'})\n",
    "        current_var = variance(mc_plus_sv, pivot_sv_d)\n",
    "        var_list.append(current_var)\n",
    "        if current_var < base_var:\n",
    "            success_cnt += 1\n",
    "\n",
    "    if success_cnt >= success_req:\n",
    "        print('current time\\t', current_time)\n",
    "        print('base var\\t', base_var)\n",
    "        print('var list\\t', var_list)\n",
    "        run = False\n",
    "    else:\n",
    "        current_time += step\n",
    "\n",
    "    # No more than 10 steps\n",
    "    if (current_time - start_time) / step > 10:\n",
    "        run = False\n",
    "\n",
    "# Case 2\n",
    "\n",
    "start_time = 110\n",
    "step = 10\n",
    "\n",
    "current_time = 110\n",
    "mc_plus_sv = load_npy('mc_plus_sv_82.npy')\n",
    "mc_plus_sv = mc_plus_sv / np.sum(mc_plus_sv)\n",
    "base_var = variance(mc_plus_sv, pivot_sv_s / np.sum(pivot_sv_s))\n",
    "run = True\n",
    "while run:\n",
    "    # Start from the start times\n",
    "    success_cnt = 0\n",
    "    var_list = list()\n",
    "    for _ in range(repeat):\n",
    "        pivot_shap = dynashap.PivotShap(x_train, y_train, x_test, y_test, model, None)\n",
    "        pivot_shap.prepare(100 * len(y_train), proc_num=2)\n",
    "        pivot_shap.add_single_point(add_points_x[0], add_points_y[0], m=current_time * 80,\n",
    "                                    proc_num=2, flags={'flag_lsv': True},\n",
    "                                    params={'method': 'd'})\n",
    "        pivot_sv_d = pivot_shap.add_single_point(add_points_x[1], add_points_y[1], m=current_time * 80,\n",
    "                                                 proc_num=2, flags={'flag_lsv': True},\n",
    "                                                 params={'method': 'd'})\n",
    "        current_var = variance(base_var / np.sum(base_var),\n",
    "                               pivot_sv_d / np.sum(pivot_sv_d))\n",
    "        var_list.append(current_var)\n",
    "        if current_var < base_var:\n",
    "            success_cnt += 1\n",
    "\n",
    "    if success_cnt >= success_req:\n",
    "        print('current time\\t', current_time)\n",
    "        print('base var\\t', base_var)\n",
    "        print('var list\\t', var_list)\n",
    "        run = False\n",
    "    else:\n",
    "        current_time += step\n",
    "\n",
    "    # No more than 10 steps\n",
    "    if (current_time - start_time) / step > 10:\n",
    "        run = False"
   ]
  },
  {
   "cell_type": "code",
   "execution_count": null,
   "metadata": {
    "collapsed": false,
    "pycharm": {
     "name": "#%%\n"
    }
   },
   "outputs": [],
   "source": [
    "\n",
    "x_train, y_train, x_test, y_test, _ = preprocess_data('train_80p_2c.csv',\n",
    "                                                      'test_80p_2c.csv')\n",
    "\n",
    "# Select two features\n",
    "x_train = x_train[:,:2]\n",
    "x_test = x_test[:,:2]\n",
    "\n",
    "add_point_idxs = [5, 13]\n",
    "\n",
    "# Pick two points from test for add\n",
    "add_points_x = x_test[add_point_idxs]\n",
    "add_points_y = y_test[add_point_idxs]\n",
    "\n",
    "x_train_added = np.append(x_train, add_points_x, axis=0)\n",
    "y_train_added = np.append(y_train, add_points_y)\n",
    "\n",
    "x_test_added = np.delete(x_test, add_point_idxs, axis=0)\n",
    "y_test_added = np.delete(y_test, add_point_idxs)\n",
    "\n",
    "x_test = x_test_added\n",
    "y_test = y_test_added\n",
    "#\n",
    "# mc = dynashap.mc_shap(x_train_added, y_train_added, x_test, y_test, model, m=1000 * 80, proc_num=2)\n",
    "# save_npy('mc_plus_sv_82.npy', mc)\n",
    "\n",
    "# Case 0\n",
    "pivot_shap = dynashap.PivotShap(x_train, y_train, x_test, y_test, model, None)\n",
    "pivot_shap.prepare(100 * 80, proc_num=2)\n",
    "pivot_shap.add_single_point(add_points_x[0], add_points_y[0], proc_num=2,\n",
    "                            flags={'flag_lsv': True},\n",
    "                            params={'method': 's'})\n",
    "pivot_sv_s = pivot_shap.add_single_point(add_points_x[1], add_points_y[1], proc_num=2,\n",
    "                                         flags={'flag_lsv': True},\n",
    "                                         params={'method': 's'})\n",
    "\n",
    "pivot_shap = dynashap.PivotShap(x_train, y_train, x_test, y_test, model, None)\n",
    "pivot_shap.prepare(100 * 80, proc_num=2)\n",
    "pivot_shap.add_single_point(add_points_x[0], add_points_y[0], m=100 * 80,\n",
    "                            proc_num=2, flags={'flag_lsv': True},\n",
    "                            params={'method': 'd'})\n",
    "pivot_sv_d = pivot_shap.add_single_point(add_points_x[1], add_points_y[1], m=100 * 80,\n",
    "                                         proc_num=2, flags={'flag_lsv': True},\n",
    "                                         params={'method': 'd'})\n",
    "\n",
    "save_npy('eam_pivot_sv_s_tau100.npy', pivot_sv_s)\n",
    "save_npy('eam_pivot_sv_d_tau100_100.npy', pivot_sv_d)\n",
    "\n",
    "# Case 1\n",
    "start_time = 110\n",
    "step = 10\n",
    "\n",
    "current_time = 110\n",
    "mc_plus_sv = load_npy('mc_plus_sv_82.npy')\n",
    "mc_plus_sv = mc_plus_sv / np.sum(mc_plus_sv)\n",
    "base_var = variance(mc_plus_sv, pivot_sv_s / np.sum(pivot_sv_s))\n",
    "print(base_var)"
   ]
  },
  {
   "cell_type": "code",
   "execution_count": null,
   "metadata": {
    "collapsed": false,
    "pycharm": {
     "name": "#%%\n"
    }
   },
   "outputs": [],
   "source": [
    "\n",
    "mc_plus_sv = load_npy('mc_plus_sv_82.npy')"
   ]
  },
  {
   "cell_type": "code",
   "execution_count": null,
   "metadata": {
    "collapsed": false,
    "pycharm": {
     "name": "#%%\n"
    }
   },
   "outputs": [],
   "source": [
    "mc_plus_sv"
   ]
  }
 ],
 "metadata": {
  "interpreter": {
   "hash": "aee8b7b246df8f9039afb4144a1f6fd8d2ca17a180786b69acc140d282b71a49"
  },
  "kernelspec": {
   "display_name": "Python 3.9.4 64-bit",
   "name": "python3"
  },
  "language_info": {
   "name": "python",
   "version": ""
  }
 },
 "nbformat": 4,
 "nbformat_minor": 0
}