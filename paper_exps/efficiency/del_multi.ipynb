{
 "cells": [
  {
   "cell_type": "markdown",
   "source": [
    "# Efficiency - Delete multiple points\n",
    "\n",
    "| comparable algo list |\n",
    "| - |\n",
    "| delta |\n",
    "| Monte Carlo |"
   ],
   "metadata": {
    "collapsed": false,
    "pycharm": {
     "name": "#%% md\n"
    }
   }
  },
  {
   "cell_type": "code",
   "execution_count": null,
   "outputs": [],
   "source": [
    "import sys\n",
    "sys.path.append(\"..\")\n",
    "\n",
    "from sklearn import svm\n",
    "import numpy as np\n",
    "\n",
    "import dynashap\n",
    "\n",
    "from examples.data_utils import (\n",
    "    load_npy, save_npy, preprocess_data, variance, normalize\n",
    ")"
   ],
   "metadata": {
    "collapsed": false,
    "pycharm": {
     "name": "#%%\n"
    }
   }
  },
  {
   "cell_type": "code",
   "execution_count": null,
   "outputs": [],
   "source": [
    "model = svm.SVC(decision_function_shape='ovo')\n",
    "\n",
    "size_choices = [10, 100, 1000, 10000]\n",
    "m_choices = [10, 15, 18, 20, 22, 25, 28, 30]\n",
    "stone_m = 100\n",
    "\n",
    "# for 200 points\n",
    "size_choices = [200]\n",
    "m_choices = [1, 2, 3, 5, 8]\n",
    "mc_stone = 30\n",
    "\n",
    "for size in size_choices:\n",
    "    x_train, y_train, x_test, y_test, \\\n",
    "    columns_name = preprocess_data(\n",
    "        't_train_' + str(size) + 'p.csv',\n",
    "        't_test_' + str(size) + 'p.csv')\n",
    "\n",
    "    # process data\n",
    "    x_train_ = np.append(x_train, x_test[:2], axis=0)\n",
    "    y_train_ = np.append(y_train, y_test[:2])\n",
    "    x_test_ = x_test[2:, :]\n",
    "    y_test_ = y_test[2:]\n",
    "\n",
    "    # get a init sv\n",
    "    init_sv = dynashap.mc_shap(x_train_, y_train_, x_test_, y_test_, model, stone_m * len(y_train_), proc_num=20)\n",
    "    save_npy('dm_init_mc_plus_size' + str(size) + '.npy', init_sv)\n",
    "\n",
    "    # set a stone\n",
    "    mc_plus = dynashap.mc_shap(x_train, y_train, x_test_, y_test_, model, stone_m * len(y_train), proc_num=20)\n",
    "    save_npy('dm_mc_plus_size' + str(size) + '.npy', mc_plus)\n",
    "\n",
    "    # mc\n",
    "    mc = dynashap.mc_shap(x_train, y_train, x_test_, y_test_, model, mc_stone * len(y_train), proc_num=20)\n",
    "    save_npy('dm_mc_size'+ str(size) +'m' + str(mc_stone) + '.npy', mc)\n",
    "\n",
    "    # # walk the m choices\n",
    "    for m in m_choices:\n",
    "       # delta\n",
    "        delta_shap = dynashap.DeltaShap(x_train_, y_train_, x_test_, y_test_, model,\n",
    "                                        init_sv)\n",
    "        m_delta_sv = delta_shap.del_single_point(len(y_train_) - 1, m=(len(y_train_)-1)*m, proc_num=20)\n",
    "\n",
    "        n_delta_shap = dynashap.DeltaShap(x_train_[:-1,:], y_train_[:-1], x_test_,\n",
    "                                        y_test_, model, m_delta_sv)\n",
    "        delta_sv = n_delta_shap.del_single_point(len(y_train_) - 2, (len(y_train_)-2)*m, proc_num=20)\n",
    "        save_npy('dm_delta_size' + str(size) +'m' + str(m) + '.npy', delta_sv)"
   ],
   "metadata": {
    "collapsed": false,
    "pycharm": {
     "name": "#%%\n"
    }
   }
  }
 ],
 "metadata": {
  "kernelspec": {
   "display_name": "Python 3",
   "language": "python",
   "name": "python3"
  },
  "language_info": {
   "codemirror_mode": {
    "name": "ipython",
    "version": 2
   },
   "file_extension": ".py",
   "mimetype": "text/x-python",
   "name": "python",
   "nbconvert_exporter": "python",
   "pygments_lexer": "ipython2",
   "version": "2.7.6"
  }
 },
 "nbformat": 4,
 "nbformat_minor": 0
}