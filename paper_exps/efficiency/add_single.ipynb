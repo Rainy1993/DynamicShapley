{
 "cells": [
  {
   "cell_type": "markdown",
   "metadata": {
    "collapsed": true,
    "pycharm": {
     "name": "#%% md\n"
    }
   },
   "source": [
    "# Efficiency - Add a single point\n",
    "\n",
    "| comparable algo list |\n",
    "| - |\n",
    "| pivot |\n",
    "| delta |\n",
    "| Monte Carlo |"
   ]
  },
  {
   "cell_type": "code",
   "execution_count": null,
   "outputs": [],
   "source": [
    "import sys\n",
    "sys.path.append(\"..\")\n",
    "\n",
    "from sklearn import svm\n",
    "import numpy as np\n",
    "\n",
    "import dynashap\n",
    "\n",
    "from examples.data_utils import (\n",
    "    load_npy, save_npy, preprocess_data, variance, normalize\n",
    ")"
   ],
   "metadata": {
    "collapsed": false,
    "pycharm": {
     "name": "#%%\n"
    }
   }
  },
  {
   "cell_type": "code",
   "execution_count": null,
   "outputs": [],
   "source": [
    "model = svm.SVC(decision_function_shape='ovo')\n",
    "\n",
    "size_choices = [10, 100, 1000, 10000]\n",
    "m_choices = [10, 15, 18, 20, 22, 25, 28, 30]\n",
    "\n",
    "stone_m = 100\n",
    "\n",
    "for size in size_choices:\n",
    "    x_train, y_train, x_test, y_test, \\\n",
    "    columns_name = preprocess_data(\n",
    "        't_train_' + str(size) + 'p.csv',\n",
    "        't_test_' + str(size) + 'p.csv')\n",
    "\n",
    "    # process data\n",
    "    x_train_ = x_train[:-1]\n",
    "    y_train_ = y_train[:-1]\n",
    "\n",
    "    # for add\n",
    "    add_point_x = x_train[-1]\n",
    "    add_point_y = y_train[-1]\n",
    "\n",
    "    x_test_ = x_test\n",
    "    y_test_ = y_test\n",
    "\n",
    "    # get a init sv\n",
    "    init_sv = dynashap.mc_shap(x_train_, y_train_, x_test_, y_test_, model, stone_m * len(y_train_), proc_num=2)\n",
    "    save_npy('as_init_mc_plus_size' + str(size) + '.npy', init_sv)\n",
    "\n",
    "    # set a stone\n",
    "    mc_plus = dynashap.mc_shap(x_train, y_train, x_test_, y_test_, model, stone_m * len(y_train), proc_num=2)\n",
    "    save_npy('as_mc_plus_size' + str(size) + '.npy', mc_plus)\n",
    "\n",
    "    # left sv for pivot\n",
    "    pivot_shap = dynashap.PivotShap(x_train_, y_train_, x_test_, y_test_, model,\n",
    "                                   None)\n",
    "    lsv = pivot_shap.prepare(m=len(y_train_)*stone_m)\n",
    "    save_npy('as_pivot_lsv_size' + str(size) + '.npy', lsv)\n",
    "\n",
    "    # mc\n",
    "    mc = dynashap.mc_shap(x_train, y_train, x_test_, y_test_, model, mc_stone * len(y_train))\n",
    "    save_npy('as_mc'+ str(size) + 'm' + str(mc_stone) + '.npy', mc)\n",
    "\n",
    "    # # walk the m choices\n",
    "    for m in m_choices:\n",
    "\n",
    "        # delta\n",
    "        delta_shap = dynashap.DeltaShap(x_train_, y_train_, x_test_, y_test_, model,\n",
    "                                        init_sv)\n",
    "        delta_sv = delta_shap.add_single_point(add_point_x,\n",
    "                                               add_point_y,\n",
    "                                               m=(len(y_train_)+1)*m)\n",
    "        save_npy('as_delta_size' + str(size) +'m' + str(m) + '.npy', delta_sv)\n",
    "\n",
    "        # pivot\n",
    "        pivot_shap = dynashap.PivotShap(x_train_, y_train_, x_test_, y_test_, model,\n",
    "                                        None)\n",
    "        pivot_shap.left_sv = lsv\n",
    "        pivot_sv = pivot_shap.add_single_point(add_point_x, add_point_y,\n",
    "                                               m=(len(y_train_)+1)*m,\n",
    "                                               {'flag_lsv': True})\n",
    "        save_npy('as_pivot_size' + str(size) +'m' + str(m) + '.npy', pivot_sv)"
   ],
   "metadata": {
    "collapsed": false,
    "pycharm": {
     "name": "#%%\n"
    }
   }
  }
 ],
 "metadata": {
  "kernelspec": {
   "display_name": "Python 3",
   "language": "python",
   "name": "python3"
  },
  "language_info": {
   "codemirror_mode": {
    "name": "ipython",
    "version": 2
   },
   "file_extension": ".py",
   "mimetype": "text/x-python",
   "name": "python",
   "nbconvert_exporter": "python",
   "pygments_lexer": "ipython2",
   "version": "2.7.6"
  }
 },
 "nbformat": 4,
 "nbformat_minor": 0
}